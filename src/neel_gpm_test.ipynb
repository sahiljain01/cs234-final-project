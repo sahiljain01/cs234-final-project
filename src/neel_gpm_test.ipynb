{
 "cells": [
  {
   "cell_type": "code",
   "id": "21e7812a-823d-4568-80ab-d05bb18df523",
   "metadata": {
    "ExecuteTime": {
     "end_time": "2024-06-03T13:52:55.392289Z",
     "start_time": "2024-06-03T13:52:55.388625Z"
    }
   },
   "source": [
    "import sys\n",
    "import os\n",
    "\n",
    "script_path = os.path.abspath('')\n",
    "current_file_dir = os.path.dirname(script_path)\n",
    "sys.path.insert(0, f\"{current_file_dir}/FinRL/\")\n",
    "\n",
    "import logging\n",
    "import pandas as pd\n",
    "import numpy as np\n",
    "import datetime\n",
    "import torch\n",
    "import yfinance as yf\n",
    "\n",
    "from finrl.meta.preprocessor.yahoodownloader import YahooDownloader\n",
    "from finrl.meta.preprocessor.preprocessors import FeatureEngineer, data_split\n",
    "from finrl import config_tickers\n",
    "from finrl.config import INDICATORS\n",
    "\n",
    "#from finrl.meta.preprocessor.preprocessors import GroupByScaler\n",
    "from finrl.meta.env_portfolio_optimization.env_portfolio_optimization import PortfolioOptimizationEnv\n",
    "from finrl.agents.portfolio_optimization.models import DRLAgent\n",
    "from finrl.agents.portfolio_optimization.architectures import EIIE\n",
    "\n",
    "import src.env as env \n",
    "\n",
    "device = 'cuda:0' if torch.cuda.is_available() else 'cpu'"
   ],
   "outputs": [],
   "execution_count": 200
  },
  {
   "cell_type": "code",
   "id": "d8ff93ff-26ff-4ece-bd7b-3f237a645946",
   "metadata": {
    "editable": true,
    "slideshow": {
     "slide_type": ""
    },
    "tags": [],
    "ExecuteTime": {
     "end_time": "2024-06-03T15:20:22.648827Z",
     "start_time": "2024-06-03T15:20:22.635257Z"
    }
   },
   "source": [
    "def load_data() -> pd.DataFrame:\n",
    "    # download data\n",
    "    stocks = env.STOCKS\n",
    "    script_path = os.path.abspath('')\n",
    "    current_file_dir = os.path.dirname(script_path)\n",
    "    data_path = os.path.join(\n",
    "           current_file_dir, \n",
    "           \"src\",\n",
    "           \"data\", \n",
    "           f\"{env.TIME_RANGE_START}-{env.TIME_RANGE_START}-{'-'.join(env.STOCKS)}.pkl\"\n",
    "    )\n",
    "    if not os.path.isfile(data_path): \n",
    "       df = YahooDownloader(\n",
    "               start_date = env.TIME_RANGE_START,\n",
    "               end_date = env.TIME_RANGE_END,\n",
    "               ticker_list = env.STOCKS,\n",
    "            ).fetch_data()\n",
    "       df.to_pickle(data_path)\n",
    "    else:\n",
    "       df = pd.read_pickle(data_path)\n",
    "    return df\n"
   ],
   "outputs": [],
   "execution_count": 239
  },
  {
   "cell_type": "code",
   "id": "8f2a2758-96ee-45bf-8aa5-672c8b5c4416",
   "metadata": {
    "editable": true,
    "scrolled": true,
    "slideshow": {
     "slide_type": ""
    },
    "tags": [],
    "ExecuteTime": {
     "end_time": "2024-06-03T15:20:27.712664Z",
     "start_time": "2024-06-03T15:20:25.214374Z"
    }
   },
   "source": [
    "df = load_data()\n",
    "\n",
    "# preprocess data, calculate set of technical indicators on the data\n",
    "fe = FeatureEngineer(\n",
    "       use_technical_indicator=True,\n",
    "       tech_indicator_list = env.INDICATORS\n",
    "    )\n",
    "\n",
    "df_t = fe.preprocess_data(df)\n",
    "fmt = \"%Y-%m-%d\"\n",
    "train_df = data_split(df, env.TRAIN_START.strftime(fmt), env.TRAIN_END.strftime(fmt))\n",
    "test_df = data_split(df, env.TEST_START.strftime(fmt), env.TEST_END.strftime(fmt))"
   ],
   "outputs": [
    {
     "name": "stdout",
     "output_type": "stream",
     "text": [
      "Successfully added technical indicators\n"
     ]
    }
   ],
   "execution_count": 240
  },
  {
   "cell_type": "markdown",
   "id": "b20ac1ad-c9e7-4b42-a7a6-ede45abcd9ca",
   "metadata": {},
   "source": [
    "### Load in graph and temporal data to enhance feature space"
   ]
  },
  {
   "cell_type": "code",
   "id": "b6ce1528-5cdd-4bc6-9d10-49788d7e49b5",
   "metadata": {
    "scrolled": true,
    "ExecuteTime": {
     "end_time": "2024-06-03T13:53:09.932881Z",
     "start_time": "2024-06-03T13:52:57.887613Z"
    }
   },
   "source": [
    "!curl -L -O https://github.com/C4i0kun/Temporal_Relational_Stock_Ranking_FinRL/archive/refs/heads/main.zip\n",
    "# note: manually unzip f"
   ],
   "outputs": [
    {
     "name": "stdout",
     "output_type": "stream",
     "text": [
      "  % Total    % Received % Xferd  Average Speed   Time    Time     Time  Current\r\n",
      "                                 Dload  Upload   Total   Spent    Left  Speed\r\n",
      "  0     0    0     0    0     0      0      0 --:--:-- --:--:-- --:--:--     0\r\n",
      "100 77.4M    0 77.4M    0     0  7096k      0 --:--:--  0:00:11 --:--:-- 10.1M^C\r\n"
     ]
    }
   ],
   "execution_count": 203
  },
  {
   "cell_type": "code",
   "id": "a617b6b81555d4d9",
   "metadata": {
    "ExecuteTime": {
     "end_time": "2024-06-03T13:53:09.937270Z",
     "start_time": "2024-06-03T13:53:09.934712Z"
    }
   },
   "source": [],
   "outputs": [],
   "execution_count": 203
  },
  {
   "cell_type": "code",
   "id": "d037e3a3-7425-4078-8dfb-ba1ff98c3647",
   "metadata": {
    "ExecuteTime": {
     "end_time": "2024-06-03T15:22:05.079493Z",
     "start_time": "2024-06-03T15:22:04.729117Z"
    }
   },
   "source": [
    "#nyse_temporal  = pd.read_csv(\"/Users/neel/PycharmProjects/cs234-final-project/src/Temporal_Relational_Stock_Ranking_FinRL-main/temporal_data/temporal_data_processed/NYSE_temporal_data.csv\")\n",
    "nasdaq_temporal = pd.read_csv(\"/Users/neel/PycharmProjects/cs234-final-project/src/Temporal_Relational_Stock_Ranking_FinRL-main/temporal_data/temporal_data_processed/NASDAQ_temporal_data.csv\")\n"
   ],
   "outputs": [],
   "execution_count": 252
  },
  {
   "cell_type": "code",
   "id": "3faf5f19-7d48-48c7-8a28-55a1fb2c2887",
   "metadata": {
    "ExecuteTime": {
     "end_time": "2024-06-03T15:22:07.173219Z",
     "start_time": "2024-06-03T15:22:07.164768Z"
    }
   },
   "source": "nasdaq_temporal",
   "outputs": [
    {
     "data": {
      "text/plain": [
       "          day      open      high       low     close    volume   tic\n",
       "0           0  0.270533  0.269522  0.267237  0.263333  0.275333  AABA\n",
       "1           0  0.238730  0.237522  0.239888  0.240502  0.248031  AAON\n",
       "2           0  0.424556  0.424768  0.429769  0.442628  0.445018  AAPL\n",
       "3           0  0.650667  0.648412  0.634492  0.631473  0.667839  AAWW\n",
       "4           0  0.766565  0.761693  0.759330  0.750061  0.788157  AAXJ\n",
       "...       ...       ...       ...       ...       ...       ...   ...\n",
       "1277365  1244  0.909992  0.918809  0.912345  0.922698  0.913021  ZBRA\n",
       "1277366  1244  0.660990  0.648907  0.636086  0.630816  0.665167  ZEUS\n",
       "1277367  1244  0.981600  0.961674  0.926768  0.914257  0.984345  ZION\n",
       "1277368  1244  0.980227  0.974903  0.960225  0.964956  0.997580   ZIV\n",
       "1277369  1244  0.509179  0.500725  0.475543  0.459018  0.512077  ZUMZ\n",
       "\n",
       "[1277370 rows x 7 columns]"
      ],
      "text/html": [
       "<div>\n",
       "<style scoped>\n",
       "    .dataframe tbody tr th:only-of-type {\n",
       "        vertical-align: middle;\n",
       "    }\n",
       "\n",
       "    .dataframe tbody tr th {\n",
       "        vertical-align: top;\n",
       "    }\n",
       "\n",
       "    .dataframe thead th {\n",
       "        text-align: right;\n",
       "    }\n",
       "</style>\n",
       "<table border=\"1\" class=\"dataframe\">\n",
       "  <thead>\n",
       "    <tr style=\"text-align: right;\">\n",
       "      <th></th>\n",
       "      <th>day</th>\n",
       "      <th>open</th>\n",
       "      <th>high</th>\n",
       "      <th>low</th>\n",
       "      <th>close</th>\n",
       "      <th>volume</th>\n",
       "      <th>tic</th>\n",
       "    </tr>\n",
       "  </thead>\n",
       "  <tbody>\n",
       "    <tr>\n",
       "      <th>0</th>\n",
       "      <td>0</td>\n",
       "      <td>0.270533</td>\n",
       "      <td>0.269522</td>\n",
       "      <td>0.267237</td>\n",
       "      <td>0.263333</td>\n",
       "      <td>0.275333</td>\n",
       "      <td>AABA</td>\n",
       "    </tr>\n",
       "    <tr>\n",
       "      <th>1</th>\n",
       "      <td>0</td>\n",
       "      <td>0.238730</td>\n",
       "      <td>0.237522</td>\n",
       "      <td>0.239888</td>\n",
       "      <td>0.240502</td>\n",
       "      <td>0.248031</td>\n",
       "      <td>AAON</td>\n",
       "    </tr>\n",
       "    <tr>\n",
       "      <th>2</th>\n",
       "      <td>0</td>\n",
       "      <td>0.424556</td>\n",
       "      <td>0.424768</td>\n",
       "      <td>0.429769</td>\n",
       "      <td>0.442628</td>\n",
       "      <td>0.445018</td>\n",
       "      <td>AAPL</td>\n",
       "    </tr>\n",
       "    <tr>\n",
       "      <th>3</th>\n",
       "      <td>0</td>\n",
       "      <td>0.650667</td>\n",
       "      <td>0.648412</td>\n",
       "      <td>0.634492</td>\n",
       "      <td>0.631473</td>\n",
       "      <td>0.667839</td>\n",
       "      <td>AAWW</td>\n",
       "    </tr>\n",
       "    <tr>\n",
       "      <th>4</th>\n",
       "      <td>0</td>\n",
       "      <td>0.766565</td>\n",
       "      <td>0.761693</td>\n",
       "      <td>0.759330</td>\n",
       "      <td>0.750061</td>\n",
       "      <td>0.788157</td>\n",
       "      <td>AAXJ</td>\n",
       "    </tr>\n",
       "    <tr>\n",
       "      <th>...</th>\n",
       "      <td>...</td>\n",
       "      <td>...</td>\n",
       "      <td>...</td>\n",
       "      <td>...</td>\n",
       "      <td>...</td>\n",
       "      <td>...</td>\n",
       "      <td>...</td>\n",
       "    </tr>\n",
       "    <tr>\n",
       "      <th>1277365</th>\n",
       "      <td>1244</td>\n",
       "      <td>0.909992</td>\n",
       "      <td>0.918809</td>\n",
       "      <td>0.912345</td>\n",
       "      <td>0.922698</td>\n",
       "      <td>0.913021</td>\n",
       "      <td>ZBRA</td>\n",
       "    </tr>\n",
       "    <tr>\n",
       "      <th>1277366</th>\n",
       "      <td>1244</td>\n",
       "      <td>0.660990</td>\n",
       "      <td>0.648907</td>\n",
       "      <td>0.636086</td>\n",
       "      <td>0.630816</td>\n",
       "      <td>0.665167</td>\n",
       "      <td>ZEUS</td>\n",
       "    </tr>\n",
       "    <tr>\n",
       "      <th>1277367</th>\n",
       "      <td>1244</td>\n",
       "      <td>0.981600</td>\n",
       "      <td>0.961674</td>\n",
       "      <td>0.926768</td>\n",
       "      <td>0.914257</td>\n",
       "      <td>0.984345</td>\n",
       "      <td>ZION</td>\n",
       "    </tr>\n",
       "    <tr>\n",
       "      <th>1277368</th>\n",
       "      <td>1244</td>\n",
       "      <td>0.980227</td>\n",
       "      <td>0.974903</td>\n",
       "      <td>0.960225</td>\n",
       "      <td>0.964956</td>\n",
       "      <td>0.997580</td>\n",
       "      <td>ZIV</td>\n",
       "    </tr>\n",
       "    <tr>\n",
       "      <th>1277369</th>\n",
       "      <td>1244</td>\n",
       "      <td>0.509179</td>\n",
       "      <td>0.500725</td>\n",
       "      <td>0.475543</td>\n",
       "      <td>0.459018</td>\n",
       "      <td>0.512077</td>\n",
       "      <td>ZUMZ</td>\n",
       "    </tr>\n",
       "  </tbody>\n",
       "</table>\n",
       "<p>1277370 rows × 7 columns</p>\n",
       "</div>"
      ]
     },
     "execution_count": 253,
     "metadata": {},
     "output_type": "execute_result"
    }
   ],
   "execution_count": 253
  },
  {
   "metadata": {
    "ExecuteTime": {
     "end_time": "2024-06-03T15:22:10.530594Z",
     "start_time": "2024-06-03T15:22:10.524301Z"
    }
   },
   "cell_type": "code",
   "source": [
    "\n",
    "nasdaq_edge_index = np.load(\"Temporal_Relational_Stock_Ranking_FinRL-main/relational_data/edge_indexes/NASDAQ_sector_industry_edge_index.npy\")\n",
    "nasdaq_edge_index"
   ],
   "id": "7f0b74b1-3ed6-4b4e-96d4-aef917c8584a",
   "outputs": [
    {
     "data": {
      "text/plain": [
       "array([[   0,   15,    0, ..., 1021, 1014, 1024],\n",
       "       [  15,    0,   18, ..., 1011, 1024, 1014]])"
      ]
     },
     "execution_count": 254,
     "metadata": {},
     "output_type": "execute_result"
    }
   ],
   "execution_count": 254
  },
  {
   "cell_type": "code",
   "id": "255d97e58222740c",
   "metadata": {
    "ExecuteTime": {
     "end_time": "2024-06-03T15:22:14.827704Z",
     "start_time": "2024-06-03T15:22:14.823779Z"
    }
   },
   "source": [
    "\n",
    "nasdaq_edge_type = np.load(\"Temporal_Relational_Stock_Ranking_FinRL-main/relational_data/edge_types/NASDAQ_sector_industry_edge_type.npy\")\n",
    "nasdaq_edge_type"
   ],
   "outputs": [
    {
     "data": {
      "text/plain": [
       "array([ 0,  0,  0, ...,  1, 26, 26])"
      ]
     },
     "execution_count": 255,
     "metadata": {},
     "output_type": "execute_result"
    }
   ],
   "execution_count": 255
  },
  {
   "cell_type": "code",
   "id": "50767f0538d780c",
   "metadata": {
    "ExecuteTime": {
     "end_time": "2024-06-03T15:22:21.563141Z",
     "start_time": "2024-06-03T15:22:21.511986Z"
    }
   },
   "source": [
    "list_of_stocks = nasdaq_temporal[\"tic\"].unique().tolist()\n",
    "tics_in_portfolio = ['AAPL', 'AAXJ', 'ACWX', 'ADBE', 'AMCX', 'AMTD', 'ARCC', 'BANF', 'BIB', 'BLMT', 'BOKF', 'CBSH', 'CMCSA', 'CRED', 'CSCO', 'CSFL', 'CTBI', 'CTXS', 'DGII', 'DGLD', 'DIOD', 'DISCK', 'DISH', 'DSPG', 'EMCB', 'EMIF', 'EPAY', 'EWZS', 'FB', 'FBNC', 'FCBC', 'FFIN', 'FFKT', 'FIBK', 'FITB', 'FNLC', 'FOXA', 'FSLR', 'FTRI', 'GBCI', 'GOOGL', 'GSBC', 'HAFC', 'HBAN', 'HMST', 'HOPE', 'HRZN', 'HSTM', 'IBB', 'IGOV', 'INTC', 'INTL', 'INTU', 'IPGP', 'ISHG', 'IUSG', 'JKI', 'KLIC', 'MCHI', 'MDIV', 'MOFG', 'MSCC', 'MSFT', 'MU', 'MXIM', 'NBTB', 'NICE', 'NVDA', 'OZRK', 'PFLT', 'PGJ', 'PIE', 'PLAB', 'PLW', 'PPH', 'PSL', 'QADA', 'QLYS', 'QQQ', 'QQXT', 'RNST', 'RP', 'SASR', 'SBNY', 'SBSI', 'SCZ', 'SFNC', 'SHBI', 'SHV', 'SINA', 'SIVB', 'SLAB', 'SLRC', 'SNPS', 'SQQQ', 'SVVC', 'SYBT', 'SYMC', 'TCBI', 'TCPC', 'TDIV', 'TOWN', 'UBSH', 'VCSH', 'VGIT', 'VMBS', 'VTIP', 'VTWO', 'VTWV', 'WABC', 'WASH', 'WHF', 'WTBA', 'XIV', 'YNDX', 'ZION', 'ADI', 'ADSK', 'AMAT', 'ANSS', 'ARCC', 'BSRR', 'CA', 'CARZ', 'CHFC', 'CSCO', 'CSJ', 'DSPG', 'DWPP', 'EA', 'EBTC', 'EEFT', 'EGBN', 'EMB', 'FCBC', 'FFBC', 'FMNB', 'FOXA', 'FRME', 'GAIN', 'HBAN', 'HBNC', 'HSTM', 'IBOC', 'IFEU', 'INBK', 'IPGP', 'IXYS', 'KBWD', 'LBAI', 'LCNB', 'LOGM', 'MBFI', 'MCHI', 'MDIV', 'MRCC', 'MSFG', 'NBTB', 'NTRS', 'NVDA', 'NVEC', 'NXPI', 'OMCL', 'ONEQ', 'ORRF', 'PFF', 'PFLT', 'PFM', 'PIZ', 'PLW', 'PNQI', 'PSTB', 'PTF', 'QABA', 'QLYS', 'SNPS', 'SPWR', 'SQQQ', 'SWKS', 'TCBK', 'TUR', 'TXN', 'VIAB', 'VMBS', 'VONE', 'VONV', 'VTIP', 'WHF', 'WTBA', 'WTFC', 'ACWI', 'AMCX', 'ARCC', 'AROW', 'BLKB', 'BPOP', 'BPOPN', 'CATY', 'CBF', 'CBOE', 'CCNE', 'CGO', 'CHCO', 'CHKP', 'CME', 'CRUS', 'CSCO', 'CSOD', 'DGII', 'DISCK', 'DSGX', 'DSLV', 'DSPG', 'DVY', 'EMIF', 'FCBC', 'FFIC', 'FFIN', 'FNLC', 'FSLR', 'FTCS', 'FTRI', 'FUNC', 'GAIN', 'GULF', 'HAFC', 'HBAN', 'HBHC', 'HRZN', 'IBOC', 'IEF', 'IEI', 'IFEU', 'INTC', 'INTL', 'IPGP']\n",
    "#tics_in_portfolio = [\"AAPL\", \"CMCSA\", \"CSCO\", \"FB\", \"HBAN\", \"INTC\", \"MSFT\", \"MU\", \"NVDA\", \"QQQ\", \"XIV\"]\n",
    "\n",
    "portfolio_nodes = []\n",
    "for tic in tics_in_portfolio:\n",
    "    portfolio_nodes.append(list_of_stocks.index(tic))\n",
    "portfolio_nodes\n",
    "print(len(portfolio_nodes))\n"
   ],
   "outputs": [
    {
     "name": "stdout",
     "output_type": "stream",
     "text": [
      "236\n"
     ]
    }
   ],
   "execution_count": 256
  },
  {
   "cell_type": "code",
   "id": "2ef6f778-1425-43dd-8afb-8463d9b68813",
   "metadata": {
    "editable": true,
    "slideshow": {
     "slide_type": ""
    },
    "tags": [],
    "ExecuteTime": {
     "end_time": "2024-06-03T15:22:41.985613Z",
     "start_time": "2024-06-03T15:22:41.977170Z"
    }
   },
   "source": [
    "from torch_geometric.utils import k_hop_subgraph\n",
    "nodes_kept, new_edge_index, nodes_to_select, edge_mask = k_hop_subgraph(\n",
    "    torch.LongTensor(portfolio_nodes),\n",
    "    2,\n",
    "    torch.from_numpy(nasdaq_edge_index),\n",
    "    relabel_nodes=True,\n",
    ")\n"
   ],
   "outputs": [],
   "execution_count": 257
  },
  {
   "cell_type": "code",
   "id": "3706fab9aa2831ba",
   "metadata": {
    "ExecuteTime": {
     "end_time": "2024-06-03T15:22:46.923945Z",
     "start_time": "2024-06-03T15:22:46.849573Z"
    }
   },
   "source": [
    "# reduce temporal data\n",
    "nodes_kept = nodes_kept.tolist()\n",
    "nasdaq_temporal[\"tic_id\"], _ = pd.factorize(nasdaq_temporal[\"tic\"], sort=True)\n",
    "nasdaq_temporal = nasdaq_temporal[nasdaq_temporal[\"tic_id\"].isin(nodes_kept)]\n",
    "nasdaq_temporal = nasdaq_temporal.drop(columns=\"tic_id\")\n",
    "nasdaq_temporal"
   ],
   "outputs": [
    {
     "data": {
      "text/plain": [
       "          day      open      high       low     close    volume   tic\n",
       "2           0  0.424556  0.424768  0.429769  0.442628  0.445018  AAPL\n",
       "4           0  0.766565  0.761693  0.759330  0.750061  0.788157  AAXJ\n",
       "7           0  0.244700  0.244212  0.238217  0.231041  0.251322  ABCB\n",
       "8           0  0.689403  0.698864  0.695715  0.675068  0.708124  ABCO\n",
       "13          0  0.566419  0.564621  0.563147  0.560503  0.579132  ACIW\n",
       "...       ...       ...       ...       ...       ...       ...   ...\n",
       "1277358  1244  0.923544  0.922537  0.896003  0.888519  0.966042   XIV\n",
       "1277359  1244  0.919490  0.931946  0.950966  0.960872  0.920000  XLNX\n",
       "1277361  1244  0.736906  0.747264  0.744030  0.745198  0.743781  YNDX\n",
       "1277367  1244  0.981600  0.961674  0.926768  0.914257  0.984345  ZION\n",
       "1277368  1244  0.980227  0.974903  0.960225  0.964956  0.997580   ZIV\n",
       "\n",
       "[517920 rows x 7 columns]"
      ],
      "text/html": [
       "<div>\n",
       "<style scoped>\n",
       "    .dataframe tbody tr th:only-of-type {\n",
       "        vertical-align: middle;\n",
       "    }\n",
       "\n",
       "    .dataframe tbody tr th {\n",
       "        vertical-align: top;\n",
       "    }\n",
       "\n",
       "    .dataframe thead th {\n",
       "        text-align: right;\n",
       "    }\n",
       "</style>\n",
       "<table border=\"1\" class=\"dataframe\">\n",
       "  <thead>\n",
       "    <tr style=\"text-align: right;\">\n",
       "      <th></th>\n",
       "      <th>day</th>\n",
       "      <th>open</th>\n",
       "      <th>high</th>\n",
       "      <th>low</th>\n",
       "      <th>close</th>\n",
       "      <th>volume</th>\n",
       "      <th>tic</th>\n",
       "    </tr>\n",
       "  </thead>\n",
       "  <tbody>\n",
       "    <tr>\n",
       "      <th>2</th>\n",
       "      <td>0</td>\n",
       "      <td>0.424556</td>\n",
       "      <td>0.424768</td>\n",
       "      <td>0.429769</td>\n",
       "      <td>0.442628</td>\n",
       "      <td>0.445018</td>\n",
       "      <td>AAPL</td>\n",
       "    </tr>\n",
       "    <tr>\n",
       "      <th>4</th>\n",
       "      <td>0</td>\n",
       "      <td>0.766565</td>\n",
       "      <td>0.761693</td>\n",
       "      <td>0.759330</td>\n",
       "      <td>0.750061</td>\n",
       "      <td>0.788157</td>\n",
       "      <td>AAXJ</td>\n",
       "    </tr>\n",
       "    <tr>\n",
       "      <th>7</th>\n",
       "      <td>0</td>\n",
       "      <td>0.244700</td>\n",
       "      <td>0.244212</td>\n",
       "      <td>0.238217</td>\n",
       "      <td>0.231041</td>\n",
       "      <td>0.251322</td>\n",
       "      <td>ABCB</td>\n",
       "    </tr>\n",
       "    <tr>\n",
       "      <th>8</th>\n",
       "      <td>0</td>\n",
       "      <td>0.689403</td>\n",
       "      <td>0.698864</td>\n",
       "      <td>0.695715</td>\n",
       "      <td>0.675068</td>\n",
       "      <td>0.708124</td>\n",
       "      <td>ABCO</td>\n",
       "    </tr>\n",
       "    <tr>\n",
       "      <th>13</th>\n",
       "      <td>0</td>\n",
       "      <td>0.566419</td>\n",
       "      <td>0.564621</td>\n",
       "      <td>0.563147</td>\n",
       "      <td>0.560503</td>\n",
       "      <td>0.579132</td>\n",
       "      <td>ACIW</td>\n",
       "    </tr>\n",
       "    <tr>\n",
       "      <th>...</th>\n",
       "      <td>...</td>\n",
       "      <td>...</td>\n",
       "      <td>...</td>\n",
       "      <td>...</td>\n",
       "      <td>...</td>\n",
       "      <td>...</td>\n",
       "      <td>...</td>\n",
       "    </tr>\n",
       "    <tr>\n",
       "      <th>1277358</th>\n",
       "      <td>1244</td>\n",
       "      <td>0.923544</td>\n",
       "      <td>0.922537</td>\n",
       "      <td>0.896003</td>\n",
       "      <td>0.888519</td>\n",
       "      <td>0.966042</td>\n",
       "      <td>XIV</td>\n",
       "    </tr>\n",
       "    <tr>\n",
       "      <th>1277359</th>\n",
       "      <td>1244</td>\n",
       "      <td>0.919490</td>\n",
       "      <td>0.931946</td>\n",
       "      <td>0.950966</td>\n",
       "      <td>0.960872</td>\n",
       "      <td>0.920000</td>\n",
       "      <td>XLNX</td>\n",
       "    </tr>\n",
       "    <tr>\n",
       "      <th>1277361</th>\n",
       "      <td>1244</td>\n",
       "      <td>0.736906</td>\n",
       "      <td>0.747264</td>\n",
       "      <td>0.744030</td>\n",
       "      <td>0.745198</td>\n",
       "      <td>0.743781</td>\n",
       "      <td>YNDX</td>\n",
       "    </tr>\n",
       "    <tr>\n",
       "      <th>1277367</th>\n",
       "      <td>1244</td>\n",
       "      <td>0.981600</td>\n",
       "      <td>0.961674</td>\n",
       "      <td>0.926768</td>\n",
       "      <td>0.914257</td>\n",
       "      <td>0.984345</td>\n",
       "      <td>ZION</td>\n",
       "    </tr>\n",
       "    <tr>\n",
       "      <th>1277368</th>\n",
       "      <td>1244</td>\n",
       "      <td>0.980227</td>\n",
       "      <td>0.974903</td>\n",
       "      <td>0.960225</td>\n",
       "      <td>0.964956</td>\n",
       "      <td>0.997580</td>\n",
       "      <td>ZIV</td>\n",
       "    </tr>\n",
       "  </tbody>\n",
       "</table>\n",
       "<p>517920 rows × 7 columns</p>\n",
       "</div>"
      ]
     },
     "execution_count": 258,
     "metadata": {},
     "output_type": "execute_result"
    }
   ],
   "execution_count": 258
  },
  {
   "cell_type": "markdown",
   "id": "c3f3ca57f06c3e4",
   "metadata": {},
   "source": []
  },
  {
   "cell_type": "code",
   "id": "f16941a55d63a079",
   "metadata": {
    "ExecuteTime": {
     "end_time": "2024-06-03T15:22:50.922825Z",
     "start_time": "2024-06-03T15:22:50.917494Z"
    }
   },
   "source": [
    "# reduce edge type\n",
    "new_edge_type = torch.from_numpy(nasdaq_edge_type)[edge_mask]\n",
    "_, new_edge_type = torch.unique(new_edge_type, return_inverse=True)\n",
    "new_edge_type"
   ],
   "outputs": [
    {
     "data": {
      "text/plain": [
       "tensor([0, 0, 0,  ..., 2, 6, 6])"
      ]
     },
     "execution_count": 259,
     "metadata": {},
     "output_type": "execute_result"
    }
   ],
   "execution_count": 259
  },
  {
   "cell_type": "code",
   "id": "e9630c0e-c795-4c78-b3c3-71cddd1b3934",
   "metadata": {
    "ExecuteTime": {
     "end_time": "2024-06-03T15:22:56.578957Z",
     "start_time": "2024-06-03T15:22:55.578853Z"
    }
   },
   "source": [
    "df_portfolio = nasdaq_temporal[[\"day\", \"tic\", \"close\", \"high\", \"low\"]]\n",
    "\n",
    "df_portfolio_train = df_portfolio[df_portfolio[\"day\"] < 979]\n",
    "df_portfolio_test = df_portfolio[df_portfolio[\"day\"] >= 979]\n",
    "\n",
    "environment_train = PortfolioOptimizationEnv(\n",
    "        df_portfolio_train,\n",
    "        initial_amount=100000,\n",
    "        comission_fee_pct=0,\n",
    "        time_window=50,\n",
    "        features=[\"close\", \"high\", \"low\"],\n",
    "        time_column=\"day\",\n",
    "        normalize_df=None, # dataframe is already normalized\n",
    "        tics_in_portfolio=tics_in_portfolio\n",
    "    )\n",
    "\n",
    "environment_test = PortfolioOptimizationEnv(\n",
    "        df_portfolio_test,\n",
    "        initial_amount=100000,\n",
    "        comission_fee_pct=0,\n",
    "        time_window=50,\n",
    "        features=[\"close\", \"high\", \"low\"],\n",
    "        time_column=\"day\",\n",
    "        normalize_df=None, # dataframe is already normalized\n",
    "        tics_in_portfolio=tics_in_portfolio\n",
    "    )"
   ],
   "outputs": [],
   "execution_count": 260
  },
  {
   "cell_type": "code",
   "id": "ed8e69b5-d40f-4dc6-af58-5ce31b82f25e",
   "metadata": {
    "ExecuteTime": {
     "end_time": "2024-06-03T15:22:59.654298Z",
     "start_time": "2024-06-03T15:22:59.641660Z"
    }
   },
   "source": [
    "from finrl.agents.portfolio_optimization.architectures import GPM\n",
    "# set PolicyGradient parameters\n",
    "model_kwargs = {\n",
    "    \"lr\": 0.01,\n",
    "    \"policy\": GPM,\n",
    "    \n",
    "}\n",
    "\n",
    "# here, we can set GPM's parameters\n",
    "policy_kwargs = {\n",
    "    \"edge_index\": new_edge_index,\n",
    "    \"edge_type\": new_edge_type,\n",
    "    \"nodes_to_select\": nodes_to_select,\n",
    "    \"softmax_temperature\": 5\n",
    "}\n",
    "\n",
    "model = DRLAgent(environment_train).get_model(\"pg\", device, model_kwargs, policy_kwargs)"
   ],
   "outputs": [],
   "execution_count": 261
  },
  {
   "metadata": {},
   "cell_type": "markdown",
   "source": "",
   "id": "e34be3e7db622202"
  },
  {
   "cell_type": "code",
   "id": "2554195f-1b8d-45d9-8328-b8e698cc4bbd",
   "metadata": {
    "ExecuteTime": {
     "end_time": "2024-06-03T15:23:04.005556Z",
     "start_time": "2024-06-03T15:23:03.154137Z"
    }
   },
   "source": "DRLAgent.train_model(model, episodes=5)",
   "outputs": [
    {
     "name": "stderr",
     "output_type": "stream",
     "text": [
      "  0%|          | 0/5 [00:00<?, ?it/s]\n"
     ]
    },
    {
     "ename": "ValueError",
     "evalue": "operands could not be broadcast together with shapes (237,) (195,) ",
     "output_type": "error",
     "traceback": [
      "\u001B[0;31m---------------------------------------------------------------------------\u001B[0m",
      "\u001B[0;31mValueError\u001B[0m                                Traceback (most recent call last)",
      "Cell \u001B[0;32mIn[262], line 1\u001B[0m\n\u001B[0;32m----> 1\u001B[0m \u001B[43mDRLAgent\u001B[49m\u001B[38;5;241;43m.\u001B[39;49m\u001B[43mtrain_model\u001B[49m\u001B[43m(\u001B[49m\u001B[43mmodel\u001B[49m\u001B[43m,\u001B[49m\u001B[43m \u001B[49m\u001B[43mepisodes\u001B[49m\u001B[38;5;241;43m=\u001B[39;49m\u001B[38;5;241;43m5\u001B[39;49m\u001B[43m)\u001B[49m\n",
      "File \u001B[0;32m~/miniforge3/envs/cs234_final_project/lib/python3.10/site-packages/finrl/agents/portfolio_optimization/models.py:80\u001B[0m, in \u001B[0;36mDRLAgent.train_model\u001B[0;34m(model, episodes)\u001B[0m\n\u001B[1;32m     69\u001B[0m \u001B[38;5;129m@staticmethod\u001B[39m\n\u001B[1;32m     70\u001B[0m \u001B[38;5;28;01mdef\u001B[39;00m \u001B[38;5;21mtrain_model\u001B[39m(model, episodes\u001B[38;5;241m=\u001B[39m\u001B[38;5;241m100\u001B[39m):\n\u001B[1;32m     71\u001B[0m \u001B[38;5;250m    \u001B[39m\u001B[38;5;124;03m\"\"\"Trains portfolio optimization model.\u001B[39;00m\n\u001B[1;32m     72\u001B[0m \n\u001B[1;32m     73\u001B[0m \u001B[38;5;124;03m    Args:\u001B[39;00m\n\u001B[0;32m   (...)\u001B[0m\n\u001B[1;32m     78\u001B[0m \u001B[38;5;124;03m        An instance of the trained model.\u001B[39;00m\n\u001B[1;32m     79\u001B[0m \u001B[38;5;124;03m    \"\"\"\u001B[39;00m\n\u001B[0;32m---> 80\u001B[0m     \u001B[43mmodel\u001B[49m\u001B[38;5;241;43m.\u001B[39;49m\u001B[43mtrain\u001B[49m\u001B[43m(\u001B[49m\u001B[43mepisodes\u001B[49m\u001B[43m)\u001B[49m\n\u001B[1;32m     81\u001B[0m     \u001B[38;5;28;01mreturn\u001B[39;00m model\n",
      "File \u001B[0;32m~/miniforge3/envs/cs234_final_project/lib/python3.10/site-packages/finrl/agents/portfolio_optimization/algorithms.py:120\u001B[0m, in \u001B[0;36mPolicyGradient.train\u001B[0;34m(self, episodes)\u001B[0m\n\u001B[1;32m    117\u001B[0m \u001B[38;5;28mself\u001B[39m\u001B[38;5;241m.\u001B[39mtrain_pvm\u001B[38;5;241m.\u001B[39madd(action)\n\u001B[1;32m    119\u001B[0m \u001B[38;5;66;03m# run simulation step\u001B[39;00m\n\u001B[0;32m--> 120\u001B[0m next_obs, reward, done, info \u001B[38;5;241m=\u001B[39m \u001B[38;5;28;43mself\u001B[39;49m\u001B[38;5;241;43m.\u001B[39;49m\u001B[43mtrain_env\u001B[49m\u001B[38;5;241;43m.\u001B[39;49m\u001B[43mstep\u001B[49m\u001B[43m(\u001B[49m\u001B[43maction\u001B[49m\u001B[43m)\u001B[49m\n\u001B[1;32m    122\u001B[0m \u001B[38;5;66;03m# add experience to replay buffer\u001B[39;00m\n\u001B[1;32m    123\u001B[0m exp \u001B[38;5;241m=\u001B[39m (obs, last_action, info[\u001B[38;5;124m\"\u001B[39m\u001B[38;5;124mprice_variation\u001B[39m\u001B[38;5;124m\"\u001B[39m], info[\u001B[38;5;124m\"\u001B[39m\u001B[38;5;124mtrf_mu\u001B[39m\u001B[38;5;124m\"\u001B[39m])\n",
      "File \u001B[0;32m~/miniforge3/envs/cs234_final_project/lib/python3.10/site-packages/finrl/meta/env_portfolio_optimization/env_portfolio_optimization.py:341\u001B[0m, in \u001B[0;36mPortfolioOptimizationEnv.step\u001B[0;34m(self, actions)\u001B[0m\n\u001B[1;32m    338\u001B[0m \u001B[38;5;28mself\u001B[39m\u001B[38;5;241m.\u001B[39m_asset_memory[\u001B[38;5;124m\"\u001B[39m\u001B[38;5;124minitial\u001B[39m\u001B[38;5;124m\"\u001B[39m]\u001B[38;5;241m.\u001B[39mappend(\u001B[38;5;28mself\u001B[39m\u001B[38;5;241m.\u001B[39m_portfolio_value)\n\u001B[1;32m    340\u001B[0m \u001B[38;5;66;03m# time passes and time variation changes the portfolio distribution\u001B[39;00m\n\u001B[0;32m--> 341\u001B[0m portfolio \u001B[38;5;241m=\u001B[39m \u001B[38;5;28mself\u001B[39m\u001B[38;5;241m.\u001B[39m_portfolio_value \u001B[38;5;241m*\u001B[39m (\u001B[43mweights\u001B[49m\u001B[43m \u001B[49m\u001B[38;5;241;43m*\u001B[39;49m\u001B[43m \u001B[49m\u001B[38;5;28;43mself\u001B[39;49m\u001B[38;5;241;43m.\u001B[39;49m\u001B[43m_price_variation\u001B[49m)\n\u001B[1;32m    343\u001B[0m \u001B[38;5;66;03m# calculate new portfolio value and weights\u001B[39;00m\n\u001B[1;32m    344\u001B[0m \u001B[38;5;28mself\u001B[39m\u001B[38;5;241m.\u001B[39m_portfolio_value \u001B[38;5;241m=\u001B[39m np\u001B[38;5;241m.\u001B[39msum(portfolio)\n",
      "\u001B[0;31mValueError\u001B[0m: operands could not be broadcast together with shapes (237,) (195,) "
     ]
    }
   ],
   "execution_count": 262
  },
  {
   "cell_type": "markdown",
   "id": "8167dc3068f372b",
   "metadata": {},
   "source": []
  },
  {
   "cell_type": "code",
   "id": "7ffff302-fa1b-4de1-8276-3b23a64af13e",
   "metadata": {
    "ExecuteTime": {
     "end_time": "2024-06-03T15:15:05.569655Z",
     "start_time": "2024-06-03T15:15:05.558733Z"
    }
   },
   "source": "torch.save(model.train_policy.state_dict(), \"Neel_GPM_t=5.pt\")",
   "outputs": [],
   "execution_count": 237
  },
  {
   "cell_type": "code",
   "id": "9013b25a69997b08",
   "metadata": {
    "ExecuteTime": {
     "end_time": "2024-06-03T15:16:44.985980Z",
     "start_time": "2024-06-03T15:15:11.330330Z"
    }
   },
   "source": [
    "GPM_results = {\n",
    "    \"train\": environment_train._asset_memory[\"final\"],\n",
    "    \"test\": {},\n",
    "}\n",
    "\n",
    "# instantiate an architecture with the same arguments used in training\n",
    "# and load with load_state_dict.\n",
    "policy = GPM(new_edge_index, new_edge_type, nodes_to_select, device=device)\n",
    "policy.load_state_dict(torch.load(\"Neel_GPM_t=5.pt\"))\n",
    "\n",
    "# testing\n",
    "DRLAgent.DRL_validation(model, environment_test, policy=policy)\n",
    "GPM_results[\"test\"] = environment_test._asset_memory[\"final\"]\n",
    "GPM_results[\"weights\"] = environment_test._actions_memory"
   ],
   "outputs": [
    {
     "name": "stdout",
     "output_type": "stream",
     "text": [
      "=================================\n",
      "Initial portfolio value:100000\n",
      "Final portfolio value: 143940.984375\n",
      "Final accumulative portfolio value: 1.43940984375\n",
      "Maximum DrawDown: -0.0031985293195481157\n",
      "Sharpe ratio: 21.156253505510673\n",
      "=================================\n"
     ]
    }
   ],
   "execution_count": 238
  },
  {
   "cell_type": "code",
   "id": "2d2dc3231dc6303f",
   "metadata": {},
   "source": [
    "import matplotlib.pyplot as plt\n",
    "%matplotlib inline "
   ],
   "outputs": [],
   "execution_count": null
  },
  {
   "cell_type": "code",
   "id": "6a47e98ab9194a01",
   "metadata": {},
   "source": [
    "UBAH_results = {\n",
    "    \"train\": {},\n",
    "    \"test\": {},\n",
    "}\n",
    "\n",
    "PORTFOLIO_SIZE = len(tics_in_portfolio)\n",
    "\n",
    "# train period\n",
    "terminated = False\n",
    "environment_train.reset()\n",
    "while not terminated:\n",
    "    action = [0] + [1/PORTFOLIO_SIZE] * PORTFOLIO_SIZE\n",
    "    _, _, terminated, _ = environment_train.step(action)\n",
    "UBAH_results[\"train\"] = environment_train._asset_memory[\"final\"]\n",
    "\n",
    "# test period\n",
    "terminated = False\n",
    "environment_test.reset() \n",
    "while not terminated:\n",
    "    action = [0] + [1/PORTFOLIO_SIZE] * PORTFOLIO_SIZE\n",
    "    _, _, terminated, _ = environment_test.step(action)\n",
    "UBAH_results[\"test\"] = environment_test._asset_memory[\"final\"]"
   ],
   "outputs": [],
   "execution_count": null
  },
  {
   "cell_type": "code",
   "id": "a3c93dc7db7fff22",
   "metadata": {},
   "source": [
    "plt.plot(UBAH_results[\"train\"], label=\"Buy and Hold\")\n",
    "plt.plot(GPM_results[\"train\"], label=\"GPM\")\n",
    "\n",
    "plt.xlabel(\"Days\")\n",
    "plt.ylabel(\"Portfolio Value\")\n",
    "plt.title(\"Performance in training period\")\n",
    "plt.legend()\n",
    "\n",
    "plt.show()"
   ],
   "outputs": [],
   "execution_count": null
  },
  {
   "cell_type": "code",
   "id": "2346d29ffd7f12e3",
   "metadata": {},
   "source": [
    "plt.plot(UBAH_results[\"test\"], label=\"Buy and Hold\")\n",
    "plt.plot(GPM_results[\"test\"], label=\"GPM\")\n",
    "\n",
    "plt.xlabel(\"Days\")\n",
    "plt.ylabel(\"Portfolio Value\")\n",
    "plt.title(\"Performance in testing period\")\n",
    "plt.legend()\n",
    "\n",
    "plt.show()"
   ],
   "outputs": [],
   "execution_count": null
  },
  {
   "cell_type": "code",
   "id": "5a100725cfb7b6ad",
   "metadata": {},
   "source": "print(GPM_results[\"test\"])",
   "outputs": [],
   "execution_count": null
  },
  {
   "metadata": {},
   "cell_type": "code",
   "source": [
    "import numpy as np\n",
    "import matplotlib.pyplot as plt\n",
    "\n",
    "# Sample data: list of weight vectors\n",
    "weights = GPM_results[\"weights\"]\n",
    "weights = [l.tolist() for l in weights]\n",
    "\n",
    "# Convert the list of lists into a numpy array for easier manipulation\n",
    "weights_array = np.array(weights)\n",
    "\n",
    "# Preprocess the data to concatenate periods with the same allocations\n",
    "concatenated_weights = [weights[0]]\n",
    "time_labels = ['Period 0']\n",
    "start_period = 0\n",
    "\n",
    "for i in range(1, len(weights)):\n",
    "    if weights[i] != weights[i-1]:\n",
    "        concatenated_weights.append(weights[i])\n",
    "        time_labels.append(f'Periods {start_period}-{i-1}')\n",
    "        start_period = i\n",
    "\n",
    "# Add the last period\n",
    "time_labels.append(f'Periods {start_period}-{len(weights)-1}')\n",
    "\n",
    "# Convert the concatenated weights list to a numpy array\n",
    "concatenated_weights_array = np.array(concatenated_weights)\n",
    "\n",
    "# Number of time periods and stocks\n",
    "num_periods, num_stocks = concatenated_weights_array.shape\n",
    "\n",
    "# Colors for each stock\n",
    "colors = plt.cm.tab20(np.linspace(0, 1, num_stocks))\n",
    "\n",
    "# Define the mapping dictionary including cash\n",
    "stock_tickers = [\"Cash\", \"AAPL\", \"CMCSA\", \"CSCO\", \"FB\", \"HBAN\", \"INTC\", \"MSFT\", \"MU\", \"NVDA\", \"QQQ\", \"XIV\"]\n",
    "mapping = {i: stock_tickers[i] for i in range(len(stock_tickers))}\n",
    "\n",
    "# Plotting\n",
    "fig, ax = plt.subplots(figsize=(14, 8))\n",
    "\n",
    "# Plot stacked area chart\n",
    "ax.stackplot(range(num_periods), concatenated_weights_array.T, labels=[mapping[i] for i in range(num_stocks)], colors=colors)\n",
    "\n",
    "ax.set_xlabel('Time Period')\n",
    "ax.set_ylabel('Allocation')\n",
    "ax.set_title('Stock Allocations Over Time')\n",
    "ax.set_xticks(range(num_periods))\n",
    "# ax.set_xticklabels(time_labels, rotation=45, ha='right')\n",
    "ax.legend(loc='upper left', bbox_to_anchor=(1, 1), fontsize='large')\n",
    "\n",
    "plt.tight_layout()\n",
    "plt.show()\n"
   ],
   "id": "d5a63393e0f9ae3e",
   "outputs": [],
   "execution_count": null
  },
  {
   "metadata": {},
   "cell_type": "code",
   "source": "",
   "id": "b805a907bafbcb51",
   "outputs": [],
   "execution_count": null
  }
 ],
 "metadata": {
  "kernelspec": {
   "display_name": "Python (cs234_final_project)",
   "language": "python",
   "name": "cs234_final_project"
  },
  "language_info": {
   "codemirror_mode": {
    "name": "ipython",
    "version": 3
   },
   "file_extension": ".py",
   "mimetype": "text/x-python",
   "name": "python",
   "nbconvert_exporter": "python",
   "pygments_lexer": "ipython3",
   "version": "3.10.14"
  }
 },
 "nbformat": 4,
 "nbformat_minor": 5
}

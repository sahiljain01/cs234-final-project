{
 "cells": [
  {
   "cell_type": "code",
   "id": "21e7812a-823d-4568-80ab-d05bb18df523",
   "metadata": {
    "ExecuteTime": {
     "end_time": "2024-06-02T14:00:27.437164Z",
     "start_time": "2024-06-02T14:00:27.354835Z"
    }
   },
   "source": [
    "import sys\n",
    "import os\n",
    "\n",
    "script_path = os.path.abspath('')\n",
    "current_file_dir = os.path.dirname(script_path)\n",
    "sys.path.insert(0, f\"{current_file_dir}/FinRL/\")\n",
    "\n",
    "import matplotlib\n",
    "matplotlib.use('nbAgg')  # or another backend from the supported list\n",
    "import matplotlib.pyplot as plt\n",
    "\n",
    "import logging\n",
    "import pandas as pd\n",
    "import numpy as np\n",
    "import datetime\n",
    "import torch\n",
    "import yfinance as yf\n",
    "\n",
    "from finrl.meta.preprocessor.yahoodownloader import YahooDownloader\n",
    "from finrl.meta.preprocessor.preprocessors import FeatureEngineer, data_split\n",
    "from finrl import config_tickers\n",
    "from finrl.config import INDICATORS\n",
    "\n",
    "#from finrl.meta.preprocessor.preprocessors import GroupByScaler\n",
    "from finrl.meta.env_portfolio_optimization.env_portfolio_optimization import PortfolioOptimizationEnv\n",
    "from finrl.agents.portfolio_optimization.models import DRLAgent\n",
    "from finrl.agents.portfolio_optimization.architectures import EIIE\n",
    "\n",
    "import src.env as env \n",
    "\n",
    "device = 'cuda:0' if torch.cuda.is_available() else 'cpu'"
   ],
   "outputs": [
    {
     "ename": "ValueError",
     "evalue": "Key backend: 'inline' is not a valid value for backend; supported values are ['GTK3Agg', 'GTK3Cairo', 'GTK4Agg', 'GTK4Cairo', 'MacOSX', 'nbAgg', 'QtAgg', 'QtCairo', 'Qt5Agg', 'Qt5Cairo', 'TkAgg', 'TkCairo', 'WebAgg', 'WX', 'WXAgg', 'WXCairo', 'agg', 'cairo', 'pdf', 'pgf', 'ps', 'svg', 'template']",
     "output_type": "error",
     "traceback": [
      "\u001B[0;31m---------------------------------------------------------------------------\u001B[0m",
      "\u001B[0;31mValueError\u001B[0m                                Traceback (most recent call last)",
      "Cell \u001B[0;32mIn[17], line 25\u001B[0m\n\u001B[1;32m     22\u001B[0m \u001B[38;5;28;01mfrom\u001B[39;00m \u001B[38;5;21;01mfinrl\u001B[39;00m\u001B[38;5;21;01m.\u001B[39;00m\u001B[38;5;21;01mconfig\u001B[39;00m \u001B[38;5;28;01mimport\u001B[39;00m INDICATORS\n\u001B[1;32m     24\u001B[0m \u001B[38;5;66;03m#from finrl.meta.preprocessor.preprocessors import GroupByScaler\u001B[39;00m\n\u001B[0;32m---> 25\u001B[0m \u001B[38;5;28;01mfrom\u001B[39;00m \u001B[38;5;21;01mfinrl\u001B[39;00m\u001B[38;5;21;01m.\u001B[39;00m\u001B[38;5;21;01mmeta\u001B[39;00m\u001B[38;5;21;01m.\u001B[39;00m\u001B[38;5;21;01menv_portfolio_optimization\u001B[39;00m\u001B[38;5;21;01m.\u001B[39;00m\u001B[38;5;21;01menv_portfolio_optimization\u001B[39;00m \u001B[38;5;28;01mimport\u001B[39;00m PortfolioOptimizationEnv\n\u001B[1;32m     26\u001B[0m \u001B[38;5;28;01mfrom\u001B[39;00m \u001B[38;5;21;01mfinrl\u001B[39;00m\u001B[38;5;21;01m.\u001B[39;00m\u001B[38;5;21;01magents\u001B[39;00m\u001B[38;5;21;01m.\u001B[39;00m\u001B[38;5;21;01mportfolio_optimization\u001B[39;00m\u001B[38;5;21;01m.\u001B[39;00m\u001B[38;5;21;01mmodels\u001B[39;00m \u001B[38;5;28;01mimport\u001B[39;00m DRLAgent\n\u001B[1;32m     27\u001B[0m \u001B[38;5;28;01mfrom\u001B[39;00m \u001B[38;5;21;01mfinrl\u001B[39;00m\u001B[38;5;21;01m.\u001B[39;00m\u001B[38;5;21;01magents\u001B[39;00m\u001B[38;5;21;01m.\u001B[39;00m\u001B[38;5;21;01mportfolio_optimization\u001B[39;00m\u001B[38;5;21;01m.\u001B[39;00m\u001B[38;5;21;01marchitectures\u001B[39;00m \u001B[38;5;28;01mimport\u001B[39;00m EIIE\n",
      "File \u001B[0;32m~/miniforge3/envs/cs234_final_project/lib/python3.10/site-packages/finrl/meta/env_portfolio_optimization/env_portfolio_optimization.py:20\u001B[0m\n\u001B[1;32m     17\u001B[0m \u001B[38;5;28;01mfrom\u001B[39;00m \u001B[38;5;21;01mpathlib\u001B[39;00m \u001B[38;5;28;01mimport\u001B[39;00m Path\n\u001B[1;32m     19\u001B[0m \u001B[38;5;28;01mtry\u001B[39;00m:\n\u001B[0;32m---> 20\u001B[0m     \u001B[38;5;28;01mimport\u001B[39;00m \u001B[38;5;21;01mquantstats\u001B[39;00m \u001B[38;5;28;01mas\u001B[39;00m \u001B[38;5;21;01mqs\u001B[39;00m\n\u001B[1;32m     21\u001B[0m \u001B[38;5;28;01mexcept\u001B[39;00m \u001B[38;5;167;01mModuleNotFoundError\u001B[39;00m:\n\u001B[1;32m     22\u001B[0m     \u001B[38;5;28;01mraise\u001B[39;00m \u001B[38;5;167;01mModuleNotFoundError\u001B[39;00m(\n\u001B[1;32m     23\u001B[0m \u001B[38;5;250m        \u001B[39m\u001B[38;5;124;03m\"\"\"QuantStats module not found, environment can't plot results and calculate indicadors.\u001B[39;00m\n\u001B[1;32m     24\u001B[0m \u001B[38;5;124;03m        This module is not installed with FinRL. Install by running one of the options:\u001B[39;00m\n\u001B[0;32m   (...)\u001B[0m\n\u001B[1;32m     27\u001B[0m \u001B[38;5;124;03m        \"\"\"\u001B[39;00m\n\u001B[1;32m     28\u001B[0m     )\n",
      "File \u001B[0;32m~/miniforge3/envs/cs234_final_project/lib/python3.10/site-packages/quantstats/__init__.py:31\u001B[0m\n\u001B[1;32m     28\u001B[0m __all__ \u001B[38;5;241m=\u001B[39m [\u001B[38;5;124m\"\u001B[39m\u001B[38;5;124mstats\u001B[39m\u001B[38;5;124m\"\u001B[39m, \u001B[38;5;124m\"\u001B[39m\u001B[38;5;124mplots\u001B[39m\u001B[38;5;124m\"\u001B[39m, \u001B[38;5;124m\"\u001B[39m\u001B[38;5;124mreports\u001B[39m\u001B[38;5;124m\"\u001B[39m, \u001B[38;5;124m\"\u001B[39m\u001B[38;5;124mutils\u001B[39m\u001B[38;5;124m\"\u001B[39m, \u001B[38;5;124m\"\u001B[39m\u001B[38;5;124mextend_pandas\u001B[39m\u001B[38;5;124m\"\u001B[39m]\n\u001B[1;32m     30\u001B[0m \u001B[38;5;66;03m# try automatic matplotlib inline\u001B[39;00m\n\u001B[0;32m---> 31\u001B[0m \u001B[43mutils\u001B[49m\u001B[38;5;241;43m.\u001B[39;49m\u001B[43m_in_notebook\u001B[49m\u001B[43m(\u001B[49m\u001B[43mmatplotlib_inline\u001B[49m\u001B[38;5;241;43m=\u001B[39;49m\u001B[38;5;28;43;01mTrue\u001B[39;49;00m\u001B[43m)\u001B[49m\n\u001B[1;32m     34\u001B[0m \u001B[38;5;28;01mdef\u001B[39;00m \u001B[38;5;21mextend_pandas\u001B[39m():\n\u001B[1;32m     35\u001B[0m \u001B[38;5;250m    \u001B[39m\u001B[38;5;124;03m\"\"\"\u001B[39;00m\n\u001B[1;32m     36\u001B[0m \u001B[38;5;124;03m    Extends pandas by exposing methods to be used like:\u001B[39;00m\n\u001B[1;32m     37\u001B[0m \u001B[38;5;124;03m    df.sharpe(), df.best('day'), ...\u001B[39;00m\n\u001B[1;32m     38\u001B[0m \u001B[38;5;124;03m    \"\"\"\u001B[39;00m\n",
      "File \u001B[0;32m~/miniforge3/envs/cs234_final_project/lib/python3.10/site-packages/quantstats/utils.py:300\u001B[0m, in \u001B[0;36m_in_notebook\u001B[0;34m(matplotlib_inline)\u001B[0m\n\u001B[1;32m    297\u001B[0m \u001B[38;5;28;01mif\u001B[39;00m shell \u001B[38;5;241m==\u001B[39m \u001B[38;5;124m\"\u001B[39m\u001B[38;5;124mZMQInteractiveShell\u001B[39m\u001B[38;5;124m\"\u001B[39m:\n\u001B[1;32m    298\u001B[0m     \u001B[38;5;66;03m# Jupyter notebook or qtconsole\u001B[39;00m\n\u001B[1;32m    299\u001B[0m     \u001B[38;5;28;01mif\u001B[39;00m matplotlib_inline:\n\u001B[0;32m--> 300\u001B[0m         \u001B[43mget_ipython\u001B[49m\u001B[43m(\u001B[49m\u001B[43m)\u001B[49m\u001B[38;5;241;43m.\u001B[39;49m\u001B[43mmagic\u001B[49m\u001B[43m(\u001B[49m\u001B[38;5;124;43m\"\u001B[39;49m\u001B[38;5;124;43mmatplotlib inline\u001B[39;49m\u001B[38;5;124;43m\"\u001B[39;49m\u001B[43m)\u001B[49m\n\u001B[1;32m    301\u001B[0m     \u001B[38;5;28;01mreturn\u001B[39;00m \u001B[38;5;28;01mTrue\u001B[39;00m\n\u001B[1;32m    302\u001B[0m \u001B[38;5;28;01mif\u001B[39;00m shell \u001B[38;5;241m==\u001B[39m \u001B[38;5;124m\"\u001B[39m\u001B[38;5;124mTerminalInteractiveShell\u001B[39m\u001B[38;5;124m\"\u001B[39m:\n\u001B[1;32m    303\u001B[0m     \u001B[38;5;66;03m# Terminal running IPython\u001B[39;00m\n",
      "File \u001B[0;32m~/miniforge3/envs/cs234_final_project/lib/python3.10/site-packages/IPython/core/interactiveshell.py:2602\u001B[0m, in \u001B[0;36mInteractiveShell.magic\u001B[0;34m(self, arg_s)\u001B[0m\n\u001B[1;32m   2600\u001B[0m magic_name, _, magic_arg_s \u001B[38;5;241m=\u001B[39m arg_s\u001B[38;5;241m.\u001B[39mpartition(\u001B[38;5;124m'\u001B[39m\u001B[38;5;124m \u001B[39m\u001B[38;5;124m'\u001B[39m)\n\u001B[1;32m   2601\u001B[0m magic_name \u001B[38;5;241m=\u001B[39m magic_name\u001B[38;5;241m.\u001B[39mlstrip(prefilter\u001B[38;5;241m.\u001B[39mESC_MAGIC)\n\u001B[0;32m-> 2602\u001B[0m \u001B[38;5;28;01mreturn\u001B[39;00m \u001B[38;5;28;43mself\u001B[39;49m\u001B[38;5;241;43m.\u001B[39;49m\u001B[43mrun_line_magic\u001B[49m\u001B[43m(\u001B[49m\u001B[43mmagic_name\u001B[49m\u001B[43m,\u001B[49m\u001B[43m \u001B[49m\u001B[43mmagic_arg_s\u001B[49m\u001B[43m,\u001B[49m\u001B[43m \u001B[49m\u001B[43m_stack_depth\u001B[49m\u001B[38;5;241;43m=\u001B[39;49m\u001B[38;5;241;43m2\u001B[39;49m\u001B[43m)\u001B[49m\n",
      "File \u001B[0;32m~/miniforge3/envs/cs234_final_project/lib/python3.10/site-packages/IPython/core/interactiveshell.py:2480\u001B[0m, in \u001B[0;36mInteractiveShell.run_line_magic\u001B[0;34m(self, magic_name, line, _stack_depth)\u001B[0m\n\u001B[1;32m   2478\u001B[0m     kwargs[\u001B[38;5;124m'\u001B[39m\u001B[38;5;124mlocal_ns\u001B[39m\u001B[38;5;124m'\u001B[39m] \u001B[38;5;241m=\u001B[39m \u001B[38;5;28mself\u001B[39m\u001B[38;5;241m.\u001B[39mget_local_scope(stack_depth)\n\u001B[1;32m   2479\u001B[0m \u001B[38;5;28;01mwith\u001B[39;00m \u001B[38;5;28mself\u001B[39m\u001B[38;5;241m.\u001B[39mbuiltin_trap:\n\u001B[0;32m-> 2480\u001B[0m     result \u001B[38;5;241m=\u001B[39m \u001B[43mfn\u001B[49m\u001B[43m(\u001B[49m\u001B[38;5;241;43m*\u001B[39;49m\u001B[43margs\u001B[49m\u001B[43m,\u001B[49m\u001B[43m \u001B[49m\u001B[38;5;241;43m*\u001B[39;49m\u001B[38;5;241;43m*\u001B[39;49m\u001B[43mkwargs\u001B[49m\u001B[43m)\u001B[49m\n\u001B[1;32m   2482\u001B[0m \u001B[38;5;66;03m# The code below prevents the output from being displayed\u001B[39;00m\n\u001B[1;32m   2483\u001B[0m \u001B[38;5;66;03m# when using magics with decorator @output_can_be_silenced\u001B[39;00m\n\u001B[1;32m   2484\u001B[0m \u001B[38;5;66;03m# when the last Python token in the expression is a ';'.\u001B[39;00m\n\u001B[1;32m   2485\u001B[0m \u001B[38;5;28;01mif\u001B[39;00m \u001B[38;5;28mgetattr\u001B[39m(fn, magic\u001B[38;5;241m.\u001B[39mMAGIC_OUTPUT_CAN_BE_SILENCED, \u001B[38;5;28;01mFalse\u001B[39;00m):\n",
      "File \u001B[0;32m~/miniforge3/envs/cs234_final_project/lib/python3.10/site-packages/IPython/core/magics/pylab.py:103\u001B[0m, in \u001B[0;36mPylabMagics.matplotlib\u001B[0;34m(self, line)\u001B[0m\n\u001B[1;32m     98\u001B[0m     \u001B[38;5;28mprint\u001B[39m(\n\u001B[1;32m     99\u001B[0m         \u001B[38;5;124m\"\u001B[39m\u001B[38;5;124mAvailable matplotlib backends: \u001B[39m\u001B[38;5;132;01m%s\u001B[39;00m\u001B[38;5;124m\"\u001B[39m\n\u001B[1;32m    100\u001B[0m         \u001B[38;5;241m%\u001B[39m _list_matplotlib_backends_and_gui_loops()\n\u001B[1;32m    101\u001B[0m     )\n\u001B[1;32m    102\u001B[0m \u001B[38;5;28;01melse\u001B[39;00m:\n\u001B[0;32m--> 103\u001B[0m     gui, backend \u001B[38;5;241m=\u001B[39m \u001B[38;5;28;43mself\u001B[39;49m\u001B[38;5;241;43m.\u001B[39;49m\u001B[43mshell\u001B[49m\u001B[38;5;241;43m.\u001B[39;49m\u001B[43menable_matplotlib\u001B[49m\u001B[43m(\u001B[49m\u001B[43margs\u001B[49m\u001B[38;5;241;43m.\u001B[39;49m\u001B[43mgui\u001B[49m\u001B[38;5;241;43m.\u001B[39;49m\u001B[43mlower\u001B[49m\u001B[43m(\u001B[49m\u001B[43m)\u001B[49m\u001B[43m \u001B[49m\u001B[38;5;28;43;01mif\u001B[39;49;00m\u001B[43m \u001B[49m\u001B[38;5;28;43misinstance\u001B[39;49m\u001B[43m(\u001B[49m\u001B[43margs\u001B[49m\u001B[38;5;241;43m.\u001B[39;49m\u001B[43mgui\u001B[49m\u001B[43m,\u001B[49m\u001B[43m \u001B[49m\u001B[38;5;28;43mstr\u001B[39;49m\u001B[43m)\u001B[49m\u001B[43m \u001B[49m\u001B[38;5;28;43;01melse\u001B[39;49;00m\u001B[43m \u001B[49m\u001B[43margs\u001B[49m\u001B[38;5;241;43m.\u001B[39;49m\u001B[43mgui\u001B[49m\u001B[43m)\u001B[49m\n\u001B[1;32m    104\u001B[0m     \u001B[38;5;28mself\u001B[39m\u001B[38;5;241m.\u001B[39m_show_matplotlib_backend(args\u001B[38;5;241m.\u001B[39mgui, backend)\n",
      "File \u001B[0;32m~/miniforge3/envs/cs234_final_project/lib/python3.10/site-packages/IPython/core/interactiveshell.py:3677\u001B[0m, in \u001B[0;36mInteractiveShell.enable_matplotlib\u001B[0;34m(self, gui)\u001B[0m\n\u001B[1;32m   3673\u001B[0m         \u001B[38;5;28mprint\u001B[39m(\u001B[38;5;124m'\u001B[39m\u001B[38;5;124mWarning: Cannot change to a different GUI toolkit: \u001B[39m\u001B[38;5;132;01m%s\u001B[39;00m\u001B[38;5;124m.\u001B[39m\u001B[38;5;124m'\u001B[39m\n\u001B[1;32m   3674\u001B[0m                 \u001B[38;5;124m'\u001B[39m\u001B[38;5;124m Using \u001B[39m\u001B[38;5;132;01m%s\u001B[39;00m\u001B[38;5;124m instead.\u001B[39m\u001B[38;5;124m'\u001B[39m \u001B[38;5;241m%\u001B[39m (gui, \u001B[38;5;28mself\u001B[39m\u001B[38;5;241m.\u001B[39mpylab_gui_select))\n\u001B[1;32m   3675\u001B[0m         gui, backend \u001B[38;5;241m=\u001B[39m pt\u001B[38;5;241m.\u001B[39mfind_gui_and_backend(\u001B[38;5;28mself\u001B[39m\u001B[38;5;241m.\u001B[39mpylab_gui_select)\n\u001B[0;32m-> 3677\u001B[0m \u001B[43mpt\u001B[49m\u001B[38;5;241;43m.\u001B[39;49m\u001B[43mactivate_matplotlib\u001B[49m\u001B[43m(\u001B[49m\u001B[43mbackend\u001B[49m\u001B[43m)\u001B[49m\n\u001B[1;32m   3679\u001B[0m \u001B[38;5;28;01mfrom\u001B[39;00m \u001B[38;5;21;01mmatplotlib_inline\u001B[39;00m\u001B[38;5;21;01m.\u001B[39;00m\u001B[38;5;21;01mbackend_inline\u001B[39;00m \u001B[38;5;28;01mimport\u001B[39;00m configure_inline_support\n\u001B[1;32m   3681\u001B[0m configure_inline_support(\u001B[38;5;28mself\u001B[39m, backend)\n",
      "File \u001B[0;32m~/miniforge3/envs/cs234_final_project/lib/python3.10/site-packages/IPython/core/pylabtools.py:403\u001B[0m, in \u001B[0;36mactivate_matplotlib\u001B[0;34m(backend)\u001B[0m\n\u001B[1;32m    398\u001B[0m matplotlib\u001B[38;5;241m.\u001B[39minteractive(\u001B[38;5;28;01mTrue\u001B[39;00m)\n\u001B[1;32m    400\u001B[0m \u001B[38;5;66;03m# Matplotlib had a bug where even switch_backend could not force\u001B[39;00m\n\u001B[1;32m    401\u001B[0m \u001B[38;5;66;03m# the rcParam to update. This needs to be set *before* the module\u001B[39;00m\n\u001B[1;32m    402\u001B[0m \u001B[38;5;66;03m# magic of switch_backend().\u001B[39;00m\n\u001B[0;32m--> 403\u001B[0m \u001B[43mmatplotlib\u001B[49m\u001B[38;5;241;43m.\u001B[39;49m\u001B[43mrcParams\u001B[49m\u001B[43m[\u001B[49m\u001B[38;5;124;43m'\u001B[39;49m\u001B[38;5;124;43mbackend\u001B[39;49m\u001B[38;5;124;43m'\u001B[39;49m\u001B[43m]\u001B[49m \u001B[38;5;241m=\u001B[39m backend\n\u001B[1;32m    405\u001B[0m \u001B[38;5;66;03m# Due to circular imports, pyplot may be only partially initialised\u001B[39;00m\n\u001B[1;32m    406\u001B[0m \u001B[38;5;66;03m# when this function runs.\u001B[39;00m\n\u001B[1;32m    407\u001B[0m \u001B[38;5;66;03m# So avoid needing matplotlib attribute-lookup to access pyplot.\u001B[39;00m\n\u001B[1;32m    408\u001B[0m \u001B[38;5;28;01mfrom\u001B[39;00m \u001B[38;5;21;01mmatplotlib\u001B[39;00m \u001B[38;5;28;01mimport\u001B[39;00m pyplot \u001B[38;5;28;01mas\u001B[39;00m plt\n",
      "File \u001B[0;32m~/miniforge3/envs/cs234_final_project/lib/python3.10/site-packages/matplotlib/__init__.py:734\u001B[0m, in \u001B[0;36mRcParams.__setitem__\u001B[0;34m(self, key, val)\u001B[0m\n\u001B[1;32m    732\u001B[0m         cval \u001B[38;5;241m=\u001B[39m \u001B[38;5;28mself\u001B[39m\u001B[38;5;241m.\u001B[39mvalidate[key](val)\n\u001B[1;32m    733\u001B[0m     \u001B[38;5;28;01mexcept\u001B[39;00m \u001B[38;5;167;01mValueError\u001B[39;00m \u001B[38;5;28;01mas\u001B[39;00m ve:\n\u001B[0;32m--> 734\u001B[0m         \u001B[38;5;28;01mraise\u001B[39;00m \u001B[38;5;167;01mValueError\u001B[39;00m(\u001B[38;5;124mf\u001B[39m\u001B[38;5;124m\"\u001B[39m\u001B[38;5;124mKey \u001B[39m\u001B[38;5;132;01m{\u001B[39;00mkey\u001B[38;5;132;01m}\u001B[39;00m\u001B[38;5;124m: \u001B[39m\u001B[38;5;132;01m{\u001B[39;00mve\u001B[38;5;132;01m}\u001B[39;00m\u001B[38;5;124m\"\u001B[39m) \u001B[38;5;28;01mfrom\u001B[39;00m \u001B[38;5;28;01mNone\u001B[39;00m\n\u001B[1;32m    735\u001B[0m     \u001B[38;5;28mself\u001B[39m\u001B[38;5;241m.\u001B[39m_set(key, cval)\n\u001B[1;32m    736\u001B[0m \u001B[38;5;28;01mexcept\u001B[39;00m \u001B[38;5;167;01mKeyError\u001B[39;00m \u001B[38;5;28;01mas\u001B[39;00m err:\n",
      "\u001B[0;31mValueError\u001B[0m: Key backend: 'inline' is not a valid value for backend; supported values are ['GTK3Agg', 'GTK3Cairo', 'GTK4Agg', 'GTK4Cairo', 'MacOSX', 'nbAgg', 'QtAgg', 'QtCairo', 'Qt5Agg', 'Qt5Cairo', 'TkAgg', 'TkCairo', 'WebAgg', 'WX', 'WXAgg', 'WXCairo', 'agg', 'cairo', 'pdf', 'pgf', 'ps', 'svg', 'template']"
     ]
    }
   ],
   "execution_count": 17
  },
  {
   "cell_type": "code",
   "id": "d8ff93ff-26ff-4ece-bd7b-3f237a645946",
   "metadata": {
    "editable": true,
    "slideshow": {
     "slide_type": ""
    },
    "tags": [],
    "ExecuteTime": {
     "end_time": "2024-06-02T14:00:18.131937Z",
     "start_time": "2024-06-02T14:00:18.127693Z"
    }
   },
   "source": [
    "def load_data() -> pd.DataFrame:\n",
    "    # download data\n",
    "    stocks = env.STOCKS\n",
    "    script_path = os.path.abspath('')\n",
    "    current_file_dir = os.path.dirname(script_path)\n",
    "    data_path = os.path.join(\n",
    "           current_file_dir, \n",
    "           \"src\",\n",
    "           \"data\", \n",
    "           f\"{env.TIME_RANGE_START}-{env.TIME_RANGE_START}-{'-'.join(env.STOCKS)}.pkl\"\n",
    "    )\n",
    "    if not os.path.isfile(data_path): \n",
    "       df = YahooDownloader(\n",
    "               start_date = env.TIME_RANGE_START,\n",
    "               end_date = env.TIME_RANGE_END,\n",
    "               ticker_list = env.STOCKS,\n",
    "            ).fetch_data()\n",
    "       df.to_pickle(data_path)\n",
    "    else:\n",
    "       df = pd.read_pickle(data_path)\n",
    "    return df\n"
   ],
   "outputs": [],
   "execution_count": 15
  },
  {
   "cell_type": "code",
   "id": "8f2a2758-96ee-45bf-8aa5-672c8b5c4416",
   "metadata": {
    "editable": true,
    "scrolled": true,
    "slideshow": {
     "slide_type": ""
    },
    "tags": [],
    "ExecuteTime": {
     "end_time": "2024-06-02T14:00:22.262538Z",
     "start_time": "2024-06-02T14:00:22.235322Z"
    }
   },
   "source": [
    "df = load_data()\n",
    "\n",
    "# preprocess data, calculate set of technical indicators on the data\n",
    "fe = FeatureEngineer(\n",
    "       use_technical_indicator=True,\n",
    "       tech_indicator_list = env.INDICATORS\n",
    "    )\n",
    "\n",
    "df_t = fe.preprocess_data(df)\n",
    "fmt = \"%Y-%m-%d\"\n",
    "train_df = data_split(df, env.TRAIN_START.strftime(fmt), env.TRAIN_END.strftime(fmt))\n",
    "test_df = data_split(df, env.TEST_START.strftime(fmt), env.TEST_END.strftime(fmt))"
   ],
   "outputs": [
    {
     "ename": "NameError",
     "evalue": "name 'env' is not defined",
     "output_type": "error",
     "traceback": [
      "\u001B[0;31m---------------------------------------------------------------------------\u001B[0m",
      "\u001B[0;31mNameError\u001B[0m                                 Traceback (most recent call last)",
      "Cell \u001B[0;32mIn[16], line 1\u001B[0m\n\u001B[0;32m----> 1\u001B[0m df \u001B[38;5;241m=\u001B[39m \u001B[43mload_data\u001B[49m\u001B[43m(\u001B[49m\u001B[43m)\u001B[49m\n\u001B[1;32m      3\u001B[0m \u001B[38;5;66;03m# preprocess data, calculate set of technical indicators on the data\u001B[39;00m\n\u001B[1;32m      4\u001B[0m fe \u001B[38;5;241m=\u001B[39m FeatureEngineer(\n\u001B[1;32m      5\u001B[0m        use_technical_indicator\u001B[38;5;241m=\u001B[39m\u001B[38;5;28;01mTrue\u001B[39;00m,\n\u001B[1;32m      6\u001B[0m        tech_indicator_list \u001B[38;5;241m=\u001B[39m env\u001B[38;5;241m.\u001B[39mINDICATORS\n\u001B[1;32m      7\u001B[0m     )\n",
      "Cell \u001B[0;32mIn[15], line 3\u001B[0m, in \u001B[0;36mload_data\u001B[0;34m()\u001B[0m\n\u001B[1;32m      1\u001B[0m \u001B[38;5;28;01mdef\u001B[39;00m \u001B[38;5;21mload_data\u001B[39m() \u001B[38;5;241m-\u001B[39m\u001B[38;5;241m>\u001B[39m pd\u001B[38;5;241m.\u001B[39mDataFrame:\n\u001B[1;32m      2\u001B[0m     \u001B[38;5;66;03m# download data\u001B[39;00m\n\u001B[0;32m----> 3\u001B[0m     stocks \u001B[38;5;241m=\u001B[39m \u001B[43menv\u001B[49m\u001B[38;5;241m.\u001B[39mSTOCKS\n\u001B[1;32m      4\u001B[0m     script_path \u001B[38;5;241m=\u001B[39m os\u001B[38;5;241m.\u001B[39mpath\u001B[38;5;241m.\u001B[39mabspath(\u001B[38;5;124m'\u001B[39m\u001B[38;5;124m'\u001B[39m)\n\u001B[1;32m      5\u001B[0m     current_file_dir \u001B[38;5;241m=\u001B[39m os\u001B[38;5;241m.\u001B[39mpath\u001B[38;5;241m.\u001B[39mdirname(script_path)\n",
      "\u001B[0;31mNameError\u001B[0m: name 'env' is not defined"
     ]
    }
   ],
   "execution_count": 16
  },
  {
   "cell_type": "markdown",
   "id": "b20ac1ad-c9e7-4b42-a7a6-ede45abcd9ca",
   "metadata": {},
   "source": [
    "### Load in graph and temporal data to enhance feature space"
   ]
  },
  {
   "cell_type": "code",
   "execution_count": 6,
   "id": "b6ce1528-5cdd-4bc6-9d10-49788d7e49b5",
   "metadata": {
    "scrolled": true
   },
   "outputs": [
    {
     "name": "stdout",
     "output_type": "stream",
     "text": [
      "  % Total    % Received % Xferd  Average Speed   Time    Time     Time  Current\n",
      "                                 Dload  Upload   Total   Spent    Left  Speed\n",
      "  0     0    0     0    0     0      0      0 --:--:-- --:--:-- --:--:--     0\n",
      "100  146M    0  146M    0     0  5362k      0 --:--:--  0:00:27 --:--:-- 6164k    0  3338k      0 --:--:--  0:00:06 --:--:-- 4389k 0 --:--:--  0:00:12 --:--:-- 5487k00:20 --:--:-- 6131k\n",
      "unzip:  cannot find or open Temporal_Relational_Stock_Ranking_FinRL-main.zip, Temporal_Relational_Stock_Ranking_FinRL-main.zip.zip or Temporal_Relational_Stock_Ranking_FinRL-main.zip.ZIP.\n",
      "mv: rename Temporal_Relational_Stock_Ranking_FinRL-main to Temporal_Relational_Stock_Ranking_FinRL: No such file or directory\n",
      "tar: Error opening archive: Failed to open 'Temporal_Relational_Stock_Ranking_FinRL/temporal_data/temporal_data_processed.tar.gz'\n"
     ]
    }
   ],
   "source": [
    "!curl -L -O https://github.com/C4i0kun/Temporal_Relational_Stock_Ranking_FinRL/archive/refs/heads/main.zip\n",
    "# note: manually unzip f"
   ]
  },
  {
   "cell_type": "code",
   "execution_count": null,
   "id": "d037e3a3-7425-4078-8dfb-ba1ff98c3647",
   "metadata": {},
   "outputs": [],
   "source": [
    "temporal = pd.read_csv(\"Temporal_Relational_Stock_Ranking_FinRL/temporal_data/NASDAQ_temporal_data.csv\")\n",
    "\n"
   ]
  },
  {
   "cell_type": "code",
   "execution_count": null,
   "id": "3faf5f19-7d48-48c7-8a28-55a1fb2c2887",
   "metadata": {},
   "outputs": [],
   "source": []
  },
  {
   "cell_type": "code",
   "execution_count": null,
   "id": "7f0b74b1-3ed6-4b4e-96d4-aef917c8584a",
   "metadata": {},
   "outputs": [],
   "source": []
  },
  {
   "cell_type": "code",
   "execution_count": 5,
   "id": "2ef6f778-1425-43dd-8afb-8463d9b68813",
   "metadata": {
    "editable": true,
    "slideshow": {
     "slide_type": ""
    },
    "tags": []
   },
   "outputs": [
    {
     "data": {
      "text/html": [
       "<div>\n",
       "<style scoped>\n",
       "    .dataframe tbody tr th:only-of-type {\n",
       "        vertical-align: middle;\n",
       "    }\n",
       "\n",
       "    .dataframe tbody tr th {\n",
       "        vertical-align: top;\n",
       "    }\n",
       "\n",
       "    .dataframe thead th {\n",
       "        text-align: right;\n",
       "    }\n",
       "</style>\n",
       "<table border=\"1\" class=\"dataframe\">\n",
       "  <thead>\n",
       "    <tr style=\"text-align: right;\">\n",
       "      <th></th>\n",
       "      <th>date</th>\n",
       "      <th>open</th>\n",
       "      <th>high</th>\n",
       "      <th>low</th>\n",
       "      <th>close</th>\n",
       "      <th>volume</th>\n",
       "      <th>tic</th>\n",
       "      <th>day</th>\n",
       "    </tr>\n",
       "  </thead>\n",
       "  <tbody>\n",
       "    <tr>\n",
       "      <th>0</th>\n",
       "      <td>2019-01-02</td>\n",
       "      <td>38.722500</td>\n",
       "      <td>39.712502</td>\n",
       "      <td>38.557499</td>\n",
       "      <td>37.793777</td>\n",
       "      <td>148158800</td>\n",
       "      <td>AAPL</td>\n",
       "      <td>2</td>\n",
       "    </tr>\n",
       "    <tr>\n",
       "      <th>0</th>\n",
       "      <td>2019-01-02</td>\n",
       "      <td>192.520004</td>\n",
       "      <td>193.199997</td>\n",
       "      <td>188.949997</td>\n",
       "      <td>162.268097</td>\n",
       "      <td>3009100</td>\n",
       "      <td>AMGN</td>\n",
       "      <td>2</td>\n",
       "    </tr>\n",
       "    <tr>\n",
       "      <th>0</th>\n",
       "      <td>2019-01-02</td>\n",
       "      <td>93.910004</td>\n",
       "      <td>96.269997</td>\n",
       "      <td>93.769997</td>\n",
       "      <td>88.524513</td>\n",
       "      <td>4175400</td>\n",
       "      <td>AXP</td>\n",
       "      <td>2</td>\n",
       "    </tr>\n",
       "  </tbody>\n",
       "</table>\n",
       "</div>"
      ],
      "text/plain": [
       "         date        open        high         low       close     volume  \\\n",
       "0  2019-01-02   38.722500   39.712502   38.557499   37.793777  148158800   \n",
       "0  2019-01-02  192.520004  193.199997  188.949997  162.268097    3009100   \n",
       "0  2019-01-02   93.910004   96.269997   93.769997   88.524513    4175400   \n",
       "\n",
       "    tic  day  \n",
       "0  AAPL    2  \n",
       "0  AMGN    2  \n",
       "0   AXP    2  "
      ]
     },
     "execution_count": 5,
     "metadata": {},
     "output_type": "execute_result"
    }
   ],
   "source": [
    "test_df.head(3)"
   ]
  },
  {
   "cell_type": "code",
   "execution_count": 6,
   "id": "e9630c0e-c795-4c78-b3c3-71cddd1b3934",
   "metadata": {},
   "outputs": [],
   "source": [
    "model_kwargs = {\n",
    "       \"lr\": env.LR,\n",
    "       \"policy\": env.MODEL\n",
    "}\n",
    "\n",
    "policy_kwargs = {\n",
    "       \"k_size\": 3,\n",
    "       \"time_window\": 50\n",
    "}"
   ]
  },
  {
   "cell_type": "code",
   "execution_count": 7,
   "id": "ed8e69b5-d40f-4dc6-af58-5ce31b82f25e",
   "metadata": {},
   "outputs": [],
   "source": [
    "environment_train = PortfolioOptimizationEnv(\n",
    "       train_df,\n",
    "       initial_amount=env.INITIAL_AMT,\n",
    "       comission_fee_pct=env.COMISSION_FEE_PCT,\n",
    "       time_window=env.TIME_WINDOW,\n",
    "       features=env.FEATURES,\n",
    "       normalize_df=None\n",
    ")"
   ]
  },
  {
   "cell_type": "code",
   "execution_count": 8,
   "id": "2554195f-1b8d-45d9-8328-b8e698cc4bbd",
   "metadata": {},
   "outputs": [],
   "source": [
    "model = DRLAgent(environment_train).get_model(\"pg\", device, model_kwargs, policy_kwargs)"
   ]
  },
  {
   "cell_type": "code",
   "execution_count": 9,
   "id": "e5096aad-27d7-4319-b810-38299a2a78ac",
   "metadata": {},
   "outputs": [
    {
     "name": "stderr",
     "output_type": "stream",
     "text": [
      "  0%|                                                                                                                                                                                                                          | 0/2 [00:00<?, ?it/s]"
     ]
    },
    {
     "name": "stdout",
     "output_type": "stream",
     "text": [
      "=================================\n",
      "Initial portfolio value:100000\n",
      "Final portfolio value: 318521.71875\n",
      "Final accumulative portfolio value: 3.1852171875\n",
      "Maximum DrawDown: -0.1798230333923052\n",
      "Sharpe ratio: 1.0037443563667496\n",
      "=================================\n"
     ]
    },
    {
     "name": "stderr",
     "output_type": "stream",
     "text": [
      " 50%|█████████████████████████████████████████████████████████████████████████████████████████████████████████                                                                                                         | 1/2 [00:24<00:24, 24.36s/it]"
     ]
    },
    {
     "name": "stdout",
     "output_type": "stream",
     "text": [
      "=================================\n",
      "Initial portfolio value:100000\n",
      "Final portfolio value: 339576.34375\n",
      "Final accumulative portfolio value: 3.3957634375\n",
      "Maximum DrawDown: -0.15218789218709006\n",
      "Sharpe ratio: 1.058404370137302\n",
      "=================================\n"
     ]
    },
    {
     "name": "stderr",
     "output_type": "stream",
     "text": [
      "100%|██████████████████████████████████████████████████████████████████████████████████████████████████████████████████████████████████████████████████████████████████████████████████████████████████████████████████| 2/2 [00:48<00:00, 24.48s/it]\n"
     ]
    }
   ],
   "source": [
    "model = DRLAgent.train_model(model, episodes=2)"
   ]
  },
  {
   "cell_type": "code",
   "execution_count": 10,
   "id": "db3a98c0-4c61-4eb4-9aef-ddd2d4f8ba6b",
   "metadata": {},
   "outputs": [],
   "source": [
    "import copy\n",
    "model_cpy = copy.deepcopy(model)"
   ]
  },
  {
   "cell_type": "code",
   "execution_count": 11,
   "id": "1aca316d-273c-4f9b-abbb-77e213ab8484",
   "metadata": {},
   "outputs": [],
   "source": [
    "environment_test = PortfolioOptimizationEnv(\n",
    "    test_df,\n",
    "    initial_amount=env.INITIAL_AMT,\n",
    "    comission_fee_pct=env.COMISSION_FEE_PCT,\n",
    "    time_window=env.TIME_WINDOW,\n",
    "    features=env.FEATURES,\n",
    "    normalize_df=None\n",
    ")"
   ]
  },
  {
   "cell_type": "code",
   "execution_count": 12,
   "id": "ec63dc62-e004-44a5-9768-06e34391d722",
   "metadata": {
    "editable": true,
    "slideshow": {
     "slide_type": ""
    },
    "tags": []
   },
   "outputs": [
    {
     "name": "stdout",
     "output_type": "stream",
     "text": [
      "=================================\n",
      "Initial portfolio value:100000\n",
      "Final portfolio value: 114772.453125\n",
      "Final accumulative portfolio value: 1.14772453125\n",
      "Maximum DrawDown: -0.0584464029223164\n",
      "Sharpe ratio: 1.5507021931346088\n",
      "=================================\n"
     ]
    }
   ],
   "source": [
    "# policy = EIIE(time_window=50, device=device)\n",
    "# policy.load_state_dict(torch.load(\"policy_EIIE.pt\"))\n",
    "\n",
    "# # 2020\n",
    "DRLAgent.DRL_validation(model, environment_test, policy=model.train_policy)"
   ]
  },
  {
   "cell_type": "code",
   "execution_count": 13,
   "id": "1eed560a-ab7f-448b-b318-35b85b6f76b5",
   "metadata": {
    "editable": true,
    "slideshow": {
     "slide_type": ""
    },
    "tags": []
   },
   "outputs": [
    {
     "data": {
      "text/html": [
       "<div>\n",
       "<style scoped>\n",
       "    .dataframe tbody tr th:only-of-type {\n",
       "        vertical-align: middle;\n",
       "    }\n",
       "\n",
       "    .dataframe tbody tr th {\n",
       "        vertical-align: top;\n",
       "    }\n",
       "\n",
       "    .dataframe thead th {\n",
       "        text-align: right;\n",
       "    }\n",
       "</style>\n",
       "<table border=\"1\" class=\"dataframe\">\n",
       "  <thead>\n",
       "    <tr style=\"text-align: right;\">\n",
       "      <th></th>\n",
       "      <th>date</th>\n",
       "      <th>open</th>\n",
       "      <th>high</th>\n",
       "      <th>low</th>\n",
       "      <th>close</th>\n",
       "      <th>volume</th>\n",
       "      <th>tic</th>\n",
       "      <th>day</th>\n",
       "    </tr>\n",
       "  </thead>\n",
       "  <tbody>\n",
       "    <tr>\n",
       "      <th>0</th>\n",
       "      <td>2010-01-04</td>\n",
       "      <td>7.622500</td>\n",
       "      <td>7.660714</td>\n",
       "      <td>7.585000</td>\n",
       "      <td>6.461975</td>\n",
       "      <td>493729600</td>\n",
       "      <td>AAPL</td>\n",
       "      <td>0</td>\n",
       "    </tr>\n",
       "    <tr>\n",
       "      <th>0</th>\n",
       "      <td>2010-01-04</td>\n",
       "      <td>56.630001</td>\n",
       "      <td>57.869999</td>\n",
       "      <td>56.560001</td>\n",
       "      <td>41.200783</td>\n",
       "      <td>5277400</td>\n",
       "      <td>AMGN</td>\n",
       "      <td>0</td>\n",
       "    </tr>\n",
       "    <tr>\n",
       "      <th>0</th>\n",
       "      <td>2010-01-04</td>\n",
       "      <td>40.810001</td>\n",
       "      <td>41.099998</td>\n",
       "      <td>40.389999</td>\n",
       "      <td>33.090439</td>\n",
       "      <td>6894300</td>\n",
       "      <td>AXP</td>\n",
       "      <td>0</td>\n",
       "    </tr>\n",
       "    <tr>\n",
       "      <th>0</th>\n",
       "      <td>2010-01-04</td>\n",
       "      <td>55.720001</td>\n",
       "      <td>56.389999</td>\n",
       "      <td>54.799999</td>\n",
       "      <td>43.777557</td>\n",
       "      <td>6186700</td>\n",
       "      <td>BA</td>\n",
       "      <td>0</td>\n",
       "    </tr>\n",
       "    <tr>\n",
       "      <th>0</th>\n",
       "      <td>2010-01-04</td>\n",
       "      <td>57.650002</td>\n",
       "      <td>59.189999</td>\n",
       "      <td>57.509998</td>\n",
       "      <td>40.190228</td>\n",
       "      <td>7325600</td>\n",
       "      <td>CAT</td>\n",
       "      <td>0</td>\n",
       "    </tr>\n",
       "    <tr>\n",
       "      <th>...</th>\n",
       "      <td>...</td>\n",
       "      <td>...</td>\n",
       "      <td>...</td>\n",
       "      <td>...</td>\n",
       "      <td>...</td>\n",
       "      <td>...</td>\n",
       "      <td>...</td>\n",
       "      <td>...</td>\n",
       "    </tr>\n",
       "    <tr>\n",
       "      <th>2263</th>\n",
       "      <td>2018-12-31</td>\n",
       "      <td>248.059998</td>\n",
       "      <td>250.279999</td>\n",
       "      <td>246.940002</td>\n",
       "      <td>230.275436</td>\n",
       "      <td>3123200</td>\n",
       "      <td>UNH</td>\n",
       "      <td>0</td>\n",
       "    </tr>\n",
       "    <tr>\n",
       "      <th>2263</th>\n",
       "      <td>2018-12-31</td>\n",
       "      <td>131.679993</td>\n",
       "      <td>132.440002</td>\n",
       "      <td>130.229996</td>\n",
       "      <td>127.043968</td>\n",
       "      <td>7976000</td>\n",
       "      <td>V</td>\n",
       "      <td>0</td>\n",
       "    </tr>\n",
       "    <tr>\n",
       "      <th>2263</th>\n",
       "      <td>2018-12-31</td>\n",
       "      <td>55.529999</td>\n",
       "      <td>56.230000</td>\n",
       "      <td>55.070000</td>\n",
       "      <td>42.255058</td>\n",
       "      <td>15331800</td>\n",
       "      <td>VZ</td>\n",
       "      <td>0</td>\n",
       "    </tr>\n",
       "    <tr>\n",
       "      <th>2263</th>\n",
       "      <td>2018-12-31</td>\n",
       "      <td>68.540001</td>\n",
       "      <td>68.720001</td>\n",
       "      <td>67.739998</td>\n",
       "      <td>53.132278</td>\n",
       "      <td>4870900</td>\n",
       "      <td>WBA</td>\n",
       "      <td>0</td>\n",
       "    </tr>\n",
       "    <tr>\n",
       "      <th>2263</th>\n",
       "      <td>2018-12-31</td>\n",
       "      <td>30.889999</td>\n",
       "      <td>31.129999</td>\n",
       "      <td>30.750000</td>\n",
       "      <td>28.378319</td>\n",
       "      <td>21017400</td>\n",
       "      <td>WMT</td>\n",
       "      <td>0</td>\n",
       "    </tr>\n",
       "  </tbody>\n",
       "</table>\n",
       "<p>65656 rows × 8 columns</p>\n",
       "</div>"
      ],
      "text/plain": [
       "            date        open        high         low       close     volume  \\\n",
       "0     2010-01-04    7.622500    7.660714    7.585000    6.461975  493729600   \n",
       "0     2010-01-04   56.630001   57.869999   56.560001   41.200783    5277400   \n",
       "0     2010-01-04   40.810001   41.099998   40.389999   33.090439    6894300   \n",
       "0     2010-01-04   55.720001   56.389999   54.799999   43.777557    6186700   \n",
       "0     2010-01-04   57.650002   59.189999   57.509998   40.190228    7325600   \n",
       "...          ...         ...         ...         ...         ...        ...   \n",
       "2263  2018-12-31  248.059998  250.279999  246.940002  230.275436    3123200   \n",
       "2263  2018-12-31  131.679993  132.440002  130.229996  127.043968    7976000   \n",
       "2263  2018-12-31   55.529999   56.230000   55.070000   42.255058   15331800   \n",
       "2263  2018-12-31   68.540001   68.720001   67.739998   53.132278    4870900   \n",
       "2263  2018-12-31   30.889999   31.129999   30.750000   28.378319   21017400   \n",
       "\n",
       "       tic  day  \n",
       "0     AAPL    0  \n",
       "0     AMGN    0  \n",
       "0      AXP    0  \n",
       "0       BA    0  \n",
       "0      CAT    0  \n",
       "...    ...  ...  \n",
       "2263   UNH    0  \n",
       "2263     V    0  \n",
       "2263    VZ    0  \n",
       "2263   WBA    0  \n",
       "2263   WMT    0  \n",
       "\n",
       "[65656 rows x 8 columns]"
      ]
     },
     "execution_count": 13,
     "metadata": {},
     "output_type": "execute_result"
    }
   ],
   "source": [
    "train_df"
   ]
  },
  {
   "cell_type": "code",
   "execution_count": 14,
   "id": "47cce5c5-7a4d-424a-81fd-996037567a77",
   "metadata": {},
   "outputs": [
    {
     "data": {
      "text/html": [
       "<div>\n",
       "<style scoped>\n",
       "    .dataframe tbody tr th:only-of-type {\n",
       "        vertical-align: middle;\n",
       "    }\n",
       "\n",
       "    .dataframe tbody tr th {\n",
       "        vertical-align: top;\n",
       "    }\n",
       "\n",
       "    .dataframe thead th {\n",
       "        text-align: right;\n",
       "    }\n",
       "</style>\n",
       "<table border=\"1\" class=\"dataframe\">\n",
       "  <thead>\n",
       "    <tr style=\"text-align: right;\">\n",
       "      <th></th>\n",
       "      <th>date</th>\n",
       "      <th>open</th>\n",
       "      <th>high</th>\n",
       "      <th>low</th>\n",
       "      <th>close</th>\n",
       "      <th>volume</th>\n",
       "      <th>tic</th>\n",
       "      <th>day</th>\n",
       "    </tr>\n",
       "  </thead>\n",
       "  <tbody>\n",
       "    <tr>\n",
       "      <th>0</th>\n",
       "      <td>2019-01-02</td>\n",
       "      <td>38.722500</td>\n",
       "      <td>39.712502</td>\n",
       "      <td>38.557499</td>\n",
       "      <td>37.793777</td>\n",
       "      <td>148158800</td>\n",
       "      <td>AAPL</td>\n",
       "      <td>2</td>\n",
       "    </tr>\n",
       "    <tr>\n",
       "      <th>0</th>\n",
       "      <td>2019-01-02</td>\n",
       "      <td>192.520004</td>\n",
       "      <td>193.199997</td>\n",
       "      <td>188.949997</td>\n",
       "      <td>162.268097</td>\n",
       "      <td>3009100</td>\n",
       "      <td>AMGN</td>\n",
       "      <td>2</td>\n",
       "    </tr>\n",
       "    <tr>\n",
       "      <th>0</th>\n",
       "      <td>2019-01-02</td>\n",
       "      <td>93.910004</td>\n",
       "      <td>96.269997</td>\n",
       "      <td>93.769997</td>\n",
       "      <td>88.524513</td>\n",
       "      <td>4175400</td>\n",
       "      <td>AXP</td>\n",
       "      <td>2</td>\n",
       "    </tr>\n",
       "    <tr>\n",
       "      <th>0</th>\n",
       "      <td>2019-01-02</td>\n",
       "      <td>316.190002</td>\n",
       "      <td>323.950012</td>\n",
       "      <td>313.709991</td>\n",
       "      <td>314.645172</td>\n",
       "      <td>3292200</td>\n",
       "      <td>BA</td>\n",
       "      <td>2</td>\n",
       "    </tr>\n",
       "    <tr>\n",
       "      <th>0</th>\n",
       "      <td>2019-01-02</td>\n",
       "      <td>124.029999</td>\n",
       "      <td>127.879997</td>\n",
       "      <td>123.000000</td>\n",
       "      <td>110.966431</td>\n",
       "      <td>4783200</td>\n",
       "      <td>CAT</td>\n",
       "      <td>2</td>\n",
       "    </tr>\n",
       "    <tr>\n",
       "      <th>...</th>\n",
       "      <td>...</td>\n",
       "      <td>...</td>\n",
       "      <td>...</td>\n",
       "      <td>...</td>\n",
       "      <td>...</td>\n",
       "      <td>...</td>\n",
       "      <td>...</td>\n",
       "      <td>...</td>\n",
       "    </tr>\n",
       "    <tr>\n",
       "      <th>251</th>\n",
       "      <td>2019-12-31</td>\n",
       "      <td>293.660004</td>\n",
       "      <td>294.089996</td>\n",
       "      <td>291.149994</td>\n",
       "      <td>276.337555</td>\n",
       "      <td>2224200</td>\n",
       "      <td>UNH</td>\n",
       "      <td>1</td>\n",
       "    </tr>\n",
       "    <tr>\n",
       "      <th>251</th>\n",
       "      <td>2019-12-31</td>\n",
       "      <td>187.059998</td>\n",
       "      <td>188.000000</td>\n",
       "      <td>186.539993</td>\n",
       "      <td>182.088333</td>\n",
       "      <td>5273000</td>\n",
       "      <td>V</td>\n",
       "      <td>1</td>\n",
       "    </tr>\n",
       "    <tr>\n",
       "      <th>251</th>\n",
       "      <td>2019-12-31</td>\n",
       "      <td>61.209999</td>\n",
       "      <td>61.400002</td>\n",
       "      <td>60.939999</td>\n",
       "      <td>48.101662</td>\n",
       "      <td>8466700</td>\n",
       "      <td>VZ</td>\n",
       "      <td>1</td>\n",
       "    </tr>\n",
       "    <tr>\n",
       "      <th>251</th>\n",
       "      <td>2019-12-31</td>\n",
       "      <td>58.820000</td>\n",
       "      <td>59.470001</td>\n",
       "      <td>58.810001</td>\n",
       "      <td>47.291969</td>\n",
       "      <td>3305100</td>\n",
       "      <td>WBA</td>\n",
       "      <td>1</td>\n",
       "    </tr>\n",
       "    <tr>\n",
       "      <th>251</th>\n",
       "      <td>2019-12-31</td>\n",
       "      <td>39.833332</td>\n",
       "      <td>39.933334</td>\n",
       "      <td>39.396667</td>\n",
       "      <td>36.938072</td>\n",
       "      <td>14736000</td>\n",
       "      <td>WMT</td>\n",
       "      <td>1</td>\n",
       "    </tr>\n",
       "  </tbody>\n",
       "</table>\n",
       "<p>7308 rows × 8 columns</p>\n",
       "</div>"
      ],
      "text/plain": [
       "           date        open        high         low       close     volume  \\\n",
       "0    2019-01-02   38.722500   39.712502   38.557499   37.793777  148158800   \n",
       "0    2019-01-02  192.520004  193.199997  188.949997  162.268097    3009100   \n",
       "0    2019-01-02   93.910004   96.269997   93.769997   88.524513    4175400   \n",
       "0    2019-01-02  316.190002  323.950012  313.709991  314.645172    3292200   \n",
       "0    2019-01-02  124.029999  127.879997  123.000000  110.966431    4783200   \n",
       "..          ...         ...         ...         ...         ...        ...   \n",
       "251  2019-12-31  293.660004  294.089996  291.149994  276.337555    2224200   \n",
       "251  2019-12-31  187.059998  188.000000  186.539993  182.088333    5273000   \n",
       "251  2019-12-31   61.209999   61.400002   60.939999   48.101662    8466700   \n",
       "251  2019-12-31   58.820000   59.470001   58.810001   47.291969    3305100   \n",
       "251  2019-12-31   39.833332   39.933334   39.396667   36.938072   14736000   \n",
       "\n",
       "      tic  day  \n",
       "0    AAPL    2  \n",
       "0    AMGN    2  \n",
       "0     AXP    2  \n",
       "0      BA    2  \n",
       "0     CAT    2  \n",
       "..    ...  ...  \n",
       "251   UNH    1  \n",
       "251     V    1  \n",
       "251    VZ    1  \n",
       "251   WBA    1  \n",
       "251   WMT    1  \n",
       "\n",
       "[7308 rows x 8 columns]"
      ]
     },
     "execution_count": 14,
     "metadata": {},
     "output_type": "execute_result"
    }
   ],
   "source": [
    "test_df"
   ]
  },
  {
   "cell_type": "code",
   "execution_count": null,
   "id": "7ffff302-fa1b-4de1-8276-3b23a64af13e",
   "metadata": {},
   "outputs": [],
   "source": []
  }
 ],
 "metadata": {
  "kernelspec": {
   "display_name": "Python 3 (ipykernel)",
   "language": "python",
   "name": "python3"
  },
  "language_info": {
   "codemirror_mode": {
    "name": "ipython",
    "version": 3
   },
   "file_extension": ".py",
   "mimetype": "text/x-python",
   "name": "python",
   "nbconvert_exporter": "python",
   "pygments_lexer": "ipython3",
   "version": "3.10.14"
  }
 },
 "nbformat": 4,
 "nbformat_minor": 5
}

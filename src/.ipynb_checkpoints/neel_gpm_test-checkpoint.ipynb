{
 "cells": [
  {
   "cell_type": "code",
   "id": "21e7812a-823d-4568-80ab-d05bb18df523",
   "metadata": {
    "ExecuteTime": {
     "end_time": "2024-06-02T15:19:35.949431Z",
     "start_time": "2024-06-02T15:19:34.765136Z"
    }
   },
   "source": [
    "import sys\n",
    "import os\n",
    "\n",
    "script_path = os.path.abspath('')\n",
    "current_file_dir = os.path.dirname(script_path)\n",
    "sys.path.insert(0, f\"{current_file_dir}/FinRL/\")\n",
    "\n",
    "import logging\n",
    "import pandas as pd\n",
    "import numpy as np\n",
    "import datetime\n",
    "import torch\n",
    "import yfinance as yf\n",
    "\n",
    "from finrl.meta.preprocessor.yahoodownloader import YahooDownloader\n",
    "from finrl.meta.preprocessor.preprocessors import FeatureEngineer, data_split\n",
    "from finrl import config_tickers\n",
    "from finrl.config import INDICATORS\n",
    "\n",
    "#from finrl.meta.preprocessor.preprocessors import GroupByScaler\n",
    "from finrl.meta.env_portfolio_optimization.env_portfolio_optimization import PortfolioOptimizationEnv\n",
    "from finrl.agents.portfolio_optimization.models import DRLAgent\n",
    "from finrl.agents.portfolio_optimization.architectures import EIIE\n",
    "\n",
    "import src.env as env \n",
    "\n",
    "device = 'cuda:0' if torch.cuda.is_available() else 'cpu'"
   ],
   "outputs": [],
   "execution_count": 4
  },
  {
   "cell_type": "code",
   "id": "d8ff93ff-26ff-4ece-bd7b-3f237a645946",
   "metadata": {
    "editable": true,
    "slideshow": {
     "slide_type": ""
    },
    "tags": [],
    "ExecuteTime": {
     "end_time": "2024-06-02T15:19:53.403184Z",
     "start_time": "2024-06-02T15:19:53.398773Z"
    }
   },
   "source": [
    "def load_data() -> pd.DataFrame:\n",
    "    # download data\n",
    "    stocks = env.STOCKS\n",
    "    script_path = os.path.abspath('')\n",
    "    current_file_dir = os.path.dirname(script_path)\n",
    "    data_path = os.path.join(\n",
    "           current_file_dir, \n",
    "           \"src\",\n",
    "           \"data\", \n",
    "           f\"{env.TIME_RANGE_START}-{env.TIME_RANGE_START}-{'-'.join(env.STOCKS)}.pkl\"\n",
    "    )\n",
    "    if not os.path.isfile(data_path): \n",
    "       df = YahooDownloader(\n",
    "               start_date = env.TIME_RANGE_START,\n",
    "               end_date = env.TIME_RANGE_END,\n",
    "               ticker_list = env.STOCKS,\n",
    "            ).fetch_data()\n",
    "       df.to_pickle(data_path)\n",
    "    else:\n",
    "       df = pd.read_pickle(data_path)\n",
    "    return df\n"
   ],
   "outputs": [],
   "execution_count": 7
  },
  {
   "cell_type": "code",
   "id": "8f2a2758-96ee-45bf-8aa5-672c8b5c4416",
   "metadata": {
    "editable": true,
    "scrolled": true,
    "slideshow": {
     "slide_type": ""
    },
    "tags": [],
    "ExecuteTime": {
     "end_time": "2024-06-02T15:20:11.803600Z",
     "start_time": "2024-06-02T15:20:09.391699Z"
    }
   },
   "source": [
    "df = load_data()\n",
    "\n",
    "# preprocess data, calculate set of technical indicators on the data\n",
    "fe = FeatureEngineer(\n",
    "       use_technical_indicator=True,\n",
    "       tech_indicator_list = env.INDICATORS\n",
    "    )\n",
    "\n",
    "df_t = fe.preprocess_data(df)\n",
    "fmt = \"%Y-%m-%d\"\n",
    "train_df = data_split(df, env.TRAIN_START.strftime(fmt), env.TRAIN_END.strftime(fmt))\n",
    "test_df = data_split(df, env.TEST_START.strftime(fmt), env.TEST_END.strftime(fmt))"
   ],
   "outputs": [
    {
     "name": "stdout",
     "output_type": "stream",
     "text": [
      "Successfully added technical indicators\n"
     ]
    }
   ],
   "execution_count": 8
  },
  {
   "cell_type": "markdown",
   "id": "b20ac1ad-c9e7-4b42-a7a6-ede45abcd9ca",
   "metadata": {},
   "source": [
    "### Load in graph and temporal data to enhance feature space"
   ]
  },
  {
   "cell_type": "code",
   "id": "b6ce1528-5cdd-4bc6-9d10-49788d7e49b5",
   "metadata": {
    "scrolled": true,
    "ExecuteTime": {
     "end_time": "2024-06-02T14:53:05.442610Z",
     "start_time": "2024-06-02T14:52:54.575698Z"
    }
   },
   "source": [
    "!curl -L -O https://github.com/C4i0kun/Temporal_Relational_Stock_Ranking_FinRL/archive/refs/heads/main.zip\n",
    "# note: manually unzip f"
   ],
   "outputs": [
    {
     "name": "stdout",
     "output_type": "stream",
     "text": [
      "  % Total    % Received % Xferd  Average Speed   Time    Time     Time  Current\r\n",
      "                                 Dload  Upload   Total   Spent    Left  Speed\r\n",
      "  0     0    0     0    0     0      0      0 --:--:-- --:--:-- --:--:--     0\r\n",
      "100  146M    0  146M    0     0  13.6M      0 --:--:--  0:00:10 --:--:-- 22.1M\r\n"
     ]
    }
   ],
   "execution_count": 7
  },
  {
   "metadata": {},
   "cell_type": "code",
   "outputs": [],
   "execution_count": null,
   "source": "",
   "id": "a617b6b81555d4d9"
  },
  {
   "cell_type": "code",
   "id": "d037e3a3-7425-4078-8dfb-ba1ff98c3647",
   "metadata": {
    "ExecuteTime": {
     "end_time": "2024-06-02T16:50:03.812477Z",
     "start_time": "2024-06-02T16:50:03.230761Z"
    }
   },
   "source": [
    "nyse_temporal  = pd.read_csv(\"/Users/neel/PycharmProjects/cs234-final-project/src/Temporal_Relational_Stock_Ranking_FinRL-main/temporal_data/temporal_data_processed/NYSE_temporal_data.csv\")\n",
    "\n"
   ],
   "outputs": [],
   "execution_count": 51
  },
  {
   "cell_type": "code",
   "id": "3faf5f19-7d48-48c7-8a28-55a1fb2c2887",
   "metadata": {
    "ExecuteTime": {
     "end_time": "2024-06-02T16:50:08.656366Z",
     "start_time": "2024-06-02T16:50:08.647828Z"
    }
   },
   "source": "nyse_temporal",
   "outputs": [
    {
     "data": {
      "text/plain": [
       "          day      open      high       low     close    volume   tic\n",
       "0           0  0.578496  0.580309  0.567871  0.555112  0.593285     A\n",
       "1           0  0.586496  0.589924  0.593711  0.598892  0.603702   AAN\n",
       "2           0  0.357611  0.357296  0.359589  0.367068  0.361763   AAP\n",
       "3           0  0.602742  0.597432  0.592057  0.594226  0.620892   AAT\n",
       "4           0  0.535432  0.529228  0.526605  0.533735  0.555247    AB\n",
       "...       ...       ...       ...       ...       ...       ...   ...\n",
       "2162560  1244  0.961218  0.962850  0.965538  0.967666  0.959063  ZB-A\n",
       "2162561  1244  0.862950  0.864858  0.853509  0.855318  0.851905   ZBH\n",
       "2162562  1244  0.797489  0.798619  0.790712  0.792157  0.795982    ZF\n",
       "2162563  1244  0.712403  0.711281  0.688027  0.658353  0.734713   ZNH\n",
       "2162564  1244  0.922928  0.924033  0.918854  0.922100  0.910221   ZTR\n",
       "\n",
       "[2162565 rows x 7 columns]"
      ],
      "text/html": [
       "<div>\n",
       "<style scoped>\n",
       "    .dataframe tbody tr th:only-of-type {\n",
       "        vertical-align: middle;\n",
       "    }\n",
       "\n",
       "    .dataframe tbody tr th {\n",
       "        vertical-align: top;\n",
       "    }\n",
       "\n",
       "    .dataframe thead th {\n",
       "        text-align: right;\n",
       "    }\n",
       "</style>\n",
       "<table border=\"1\" class=\"dataframe\">\n",
       "  <thead>\n",
       "    <tr style=\"text-align: right;\">\n",
       "      <th></th>\n",
       "      <th>day</th>\n",
       "      <th>open</th>\n",
       "      <th>high</th>\n",
       "      <th>low</th>\n",
       "      <th>close</th>\n",
       "      <th>volume</th>\n",
       "      <th>tic</th>\n",
       "    </tr>\n",
       "  </thead>\n",
       "  <tbody>\n",
       "    <tr>\n",
       "      <th>0</th>\n",
       "      <td>0</td>\n",
       "      <td>0.578496</td>\n",
       "      <td>0.580309</td>\n",
       "      <td>0.567871</td>\n",
       "      <td>0.555112</td>\n",
       "      <td>0.593285</td>\n",
       "      <td>A</td>\n",
       "    </tr>\n",
       "    <tr>\n",
       "      <th>1</th>\n",
       "      <td>0</td>\n",
       "      <td>0.586496</td>\n",
       "      <td>0.589924</td>\n",
       "      <td>0.593711</td>\n",
       "      <td>0.598892</td>\n",
       "      <td>0.603702</td>\n",
       "      <td>AAN</td>\n",
       "    </tr>\n",
       "    <tr>\n",
       "      <th>2</th>\n",
       "      <td>0</td>\n",
       "      <td>0.357611</td>\n",
       "      <td>0.357296</td>\n",
       "      <td>0.359589</td>\n",
       "      <td>0.367068</td>\n",
       "      <td>0.361763</td>\n",
       "      <td>AAP</td>\n",
       "    </tr>\n",
       "    <tr>\n",
       "      <th>3</th>\n",
       "      <td>0</td>\n",
       "      <td>0.602742</td>\n",
       "      <td>0.597432</td>\n",
       "      <td>0.592057</td>\n",
       "      <td>0.594226</td>\n",
       "      <td>0.620892</td>\n",
       "      <td>AAT</td>\n",
       "    </tr>\n",
       "    <tr>\n",
       "      <th>4</th>\n",
       "      <td>0</td>\n",
       "      <td>0.535432</td>\n",
       "      <td>0.529228</td>\n",
       "      <td>0.526605</td>\n",
       "      <td>0.533735</td>\n",
       "      <td>0.555247</td>\n",
       "      <td>AB</td>\n",
       "    </tr>\n",
       "    <tr>\n",
       "      <th>...</th>\n",
       "      <td>...</td>\n",
       "      <td>...</td>\n",
       "      <td>...</td>\n",
       "      <td>...</td>\n",
       "      <td>...</td>\n",
       "      <td>...</td>\n",
       "      <td>...</td>\n",
       "    </tr>\n",
       "    <tr>\n",
       "      <th>2162560</th>\n",
       "      <td>1244</td>\n",
       "      <td>0.961218</td>\n",
       "      <td>0.962850</td>\n",
       "      <td>0.965538</td>\n",
       "      <td>0.967666</td>\n",
       "      <td>0.959063</td>\n",
       "      <td>ZB-A</td>\n",
       "    </tr>\n",
       "    <tr>\n",
       "      <th>2162561</th>\n",
       "      <td>1244</td>\n",
       "      <td>0.862950</td>\n",
       "      <td>0.864858</td>\n",
       "      <td>0.853509</td>\n",
       "      <td>0.855318</td>\n",
       "      <td>0.851905</td>\n",
       "      <td>ZBH</td>\n",
       "    </tr>\n",
       "    <tr>\n",
       "      <th>2162562</th>\n",
       "      <td>1244</td>\n",
       "      <td>0.797489</td>\n",
       "      <td>0.798619</td>\n",
       "      <td>0.790712</td>\n",
       "      <td>0.792157</td>\n",
       "      <td>0.795982</td>\n",
       "      <td>ZF</td>\n",
       "    </tr>\n",
       "    <tr>\n",
       "      <th>2162563</th>\n",
       "      <td>1244</td>\n",
       "      <td>0.712403</td>\n",
       "      <td>0.711281</td>\n",
       "      <td>0.688027</td>\n",
       "      <td>0.658353</td>\n",
       "      <td>0.734713</td>\n",
       "      <td>ZNH</td>\n",
       "    </tr>\n",
       "    <tr>\n",
       "      <th>2162564</th>\n",
       "      <td>1244</td>\n",
       "      <td>0.922928</td>\n",
       "      <td>0.924033</td>\n",
       "      <td>0.918854</td>\n",
       "      <td>0.922100</td>\n",
       "      <td>0.910221</td>\n",
       "      <td>ZTR</td>\n",
       "    </tr>\n",
       "  </tbody>\n",
       "</table>\n",
       "<p>2162565 rows × 7 columns</p>\n",
       "</div>"
      ]
     },
     "execution_count": 52,
     "metadata": {},
     "output_type": "execute_result"
    }
   ],
   "execution_count": 52
  },
  {
   "cell_type": "code",
   "id": "7f0b74b1-3ed6-4b4e-96d4-aef917c8584a",
   "metadata": {
    "ExecuteTime": {
     "end_time": "2024-06-02T16:50:39.852787Z",
     "start_time": "2024-06-02T16:50:39.846877Z"
    }
   },
   "source": [
    "nyse_edge_index = np.load(\"Temporal_Relational_Stock_Ranking_FinRL-main/relational_data/edge_indexes/NYSE_sector_industry_edge_index.npy\")\n",
    "nyse_edge_index"
   ],
   "outputs": [
    {
     "data": {
      "text/plain": [
       "array([[   0,  201,    0, ..., 1736, 1734, 1736],\n",
       "       [ 201,    0, 1059, ..., 1732, 1736, 1734]])"
      ]
     },
     "execution_count": 54,
     "metadata": {},
     "output_type": "execute_result"
    }
   ],
   "execution_count": 54
  },
  {
   "metadata": {
    "ExecuteTime": {
     "end_time": "2024-06-02T16:50:59.792084Z",
     "start_time": "2024-06-02T16:50:59.786037Z"
    }
   },
   "cell_type": "code",
   "source": [
    "nyse_edge_type = np.load(\"Temporal_Relational_Stock_Ranking_FinRL-main/relational_data/edge_types/NYSE_sector_industry_edge_type.npy\")\n",
    "nyse_edge_type"
   ],
   "id": "255d97e58222740c",
   "outputs": [
    {
     "data": {
      "text/plain": [
       "array([ 0,  0,  0, ..., 13, 13, 13])"
      ]
     },
     "execution_count": 55,
     "metadata": {},
     "output_type": "execute_result"
    }
   ],
   "execution_count": 55
  },
  {
   "metadata": {
    "ExecuteTime": {
     "end_time": "2024-06-02T16:51:05.142216Z",
     "start_time": "2024-06-02T16:51:04.798954Z"
    }
   },
   "cell_type": "code",
   "source": [
    "# URL to the Wikipedia page for S&P 500 companies\n",
    "wiki_url = 'https://en.wikipedia.org/wiki/List_of_S%26P_500_companies'\n",
    "\n",
    "# Use pandas to read the table from the Wikipedia page\n",
    "sp500_table = pd.read_html(wiki_url)\n",
    "\n",
    "# Extract the table with the ticker symbols\n",
    "sp500_df = sp500_table[0]\n",
    "\n",
    "# Get the list of tickers\n",
    "sp500_tickers = sp500_df['Symbol'].tolist()\n",
    "print(sp500_df)"
   ],
   "id": "b88a43beb0a1fcf4",
   "outputs": [
    {
     "name": "stdout",
     "output_type": "stream",
     "text": [
      "    Symbol            Security             GICS Sector  \\\n",
      "0      MMM                  3M             Industrials   \n",
      "1      AOS         A. O. Smith             Industrials   \n",
      "2      ABT              Abbott             Health Care   \n",
      "3     ABBV              AbbVie             Health Care   \n",
      "4      ACN           Accenture  Information Technology   \n",
      "..     ...                 ...                     ...   \n",
      "498    XYL          Xylem Inc.             Industrials   \n",
      "499    YUM         Yum! Brands  Consumer Discretionary   \n",
      "500   ZBRA  Zebra Technologies  Information Technology   \n",
      "501    ZBH       Zimmer Biomet             Health Care   \n",
      "502    ZTS              Zoetis             Health Care   \n",
      "\n",
      "                                GICS Sub-Industry    Headquarters Location  \\\n",
      "0                        Industrial Conglomerates    Saint Paul, Minnesota   \n",
      "1                               Building Products     Milwaukee, Wisconsin   \n",
      "2                           Health Care Equipment  North Chicago, Illinois   \n",
      "3                                   Biotechnology  North Chicago, Illinois   \n",
      "4                  IT Consulting & Other Services          Dublin, Ireland   \n",
      "..                                            ...                      ...   \n",
      "498  Industrial Machinery & Supplies & Components   White Plains, New York   \n",
      "499                                   Restaurants     Louisville, Kentucky   \n",
      "500            Electronic Equipment & Instruments   Lincolnshire, Illinois   \n",
      "501                         Health Care Equipment          Warsaw, Indiana   \n",
      "502                               Pharmaceuticals   Parsippany, New Jersey   \n",
      "\n",
      "     Date added      CIK      Founded  \n",
      "0    1957-03-04    66740         1902  \n",
      "1    2017-07-26    91142         1916  \n",
      "2    1957-03-04     1800         1888  \n",
      "3    2012-12-31  1551152  2013 (1888)  \n",
      "4    2011-07-06  1467373         1989  \n",
      "..          ...      ...          ...  \n",
      "498  2011-11-01  1524472         2011  \n",
      "499  1997-10-06  1041061         1997  \n",
      "500  2019-12-23   877212         1969  \n",
      "501  2001-08-07  1136869         1927  \n",
      "502  2013-06-21  1555280         1952  \n",
      "\n",
      "[503 rows x 8 columns]\n"
     ]
    }
   ],
   "execution_count": 56
  },
  {
   "metadata": {
    "ExecuteTime": {
     "end_time": "2024-06-02T16:51:17.092381Z",
     "start_time": "2024-06-02T16:51:17.021852Z"
    }
   },
   "cell_type": "code",
   "source": [
    "# Assuming `nasdaq_temporal` is your DataFrame\n",
    "list_of_stocks = nyse_temporal[\"tic\"].unique().tolist()\n",
    "\n",
    "# Filter list_of_stocks to include only those in the S&P 500\n",
    "tics_in_portfolio = [tic for tic in sp500_tickers if tic in list_of_stocks]\n",
    "\n",
    "portfolio_nodes = []\n",
    "for tic in tics_in_portfolio:\n",
    "    portfolio_nodes.append(list_of_stocks.index(tic))\n",
    "\n",
    "print(f\"Number of portfolio nodes: {len(portfolio_nodes)}\")\n",
    "print(portfolio_nodes)\n",
    "\n"
   ],
   "id": "50767f0538d780c",
   "outputs": [
    {
     "name": "stdout",
     "output_type": "stream",
     "text": [
      "Number of portfolio nodes: 300\n",
      "[1021, 89, 11, 6, 17, 33, 38, 0, 94, 65, 101, 942, 71, 1029, 26, 31, 130, 53, 126, 79, 75, 88, 91, 98, 21, 59, 58, 1500, 113, 135, 118, 123, 139, 206, 149, 172, 246, 160, 201, 217, 268, 138, 264, 270, 255, 231, 243, 247, 178, 183, 382, 376, 366, 281, 892, 305, 285, 308, 372, 358, 362, 313, 386, 1398, 413, 351, 287, 318, 328, 274, 346, 356, 895, 337, 348, 280, 371, 495, 1480, 370, 678, 352, 412, 450, 470, 482, 440, 439, 423, 483, 457, 445, 446, 422, 467, 464, 449, 477, 481, 523, 560, 494, 515, 573, 937, 525, 563, 533, 538, 548, 508, 547, 553, 516, 550, 574, 579, 1723, 592, 604, 630, 593, 607, 594, 616, 580, 174, 823, 654, 684, 647, 674, 679, 686, 690, 697, 717, 736, 719, 766, 731, 724, 748, 760, 765, 772, 773, 737, 785, 791, 827, 816, 792, 813, 814, 831, 833, 849, 855, 850, 867, 877, 885, 880, 888, 899, 932, 953, 927, 958, 939, 915, 944, 957, 1058, 1048, 1039, 1019, 1017, 967, 961, 1013, 974, 976, 1047, 991, 1059, 1001, 962, 1007, 1033, 1501, 978, 1049, 1035, 1054, 1051, 1106, 1105, 1122, 1153, 1138, 1148, 1162, 1168, 1207, 1197, 1194, 1203, 1257, 1212, 1246, 1233, 1235, 1220, 1264, 1297, 1278, 1272, 1283, 1236, 1243, 1245, 1261, 1288, 1229, 1289, 1252, 1303, 447, 1348, 1347, 1184, 1328, 1334, 1372, 1354, 1342, 1360, 1361, 1362, 1320, 1448, 387, 1424, 1455, 1141, 1415, 1447, 1418, 1435, 1441, 952, 1488, 1477, 1495, 1498, 1557, 1564, 1531, 1520, 1517, 1526, 1523, 1590, 1549, 1540, 1514, 1570, 1593, 1574, 1615, 1598, 1612, 1595, 1613, 1614, 1610, 1603, 1642, 1657, 1660, 1627, 1645, 1704, 710, 1661, 1696, 452, 1692, 1665, 1675, 1678, 1711, 1718, 1693, 1722, 1727, 1731, 1733]\n"
     ]
    }
   ],
   "execution_count": 57
  },
  {
   "cell_type": "code",
   "id": "2ef6f778-1425-43dd-8afb-8463d9b68813",
   "metadata": {
    "editable": true,
    "slideshow": {
     "slide_type": ""
    },
    "tags": [],
    "ExecuteTime": {
     "end_time": "2024-06-02T16:52:50.903405Z",
     "start_time": "2024-06-02T16:52:50.887844Z"
    }
   },
   "source": [
    "from torch_geometric.utils import k_hop_subgraph\n",
    "nodes_kept, new_edge_index, nodes_to_select, edge_mask = k_hop_subgraph(\n",
    "    torch.LongTensor(portfolio_nodes),\n",
    "    2,\n",
    "    torch.from_numpy(nyse_edge_index),\n",
    "    relabel_nodes=True,\n",
    ")\n"
   ],
   "outputs": [],
   "execution_count": 58
  },
  {
   "metadata": {
    "ExecuteTime": {
     "end_time": "2024-06-02T16:53:11.844235Z",
     "start_time": "2024-06-02T16:53:11.675696Z"
    }
   },
   "cell_type": "code",
   "source": [
    "# reduce temporal data\n",
    "nodes_kept = nodes_kept.tolist()\n",
    "nyse_temporal[\"tic_id\"], _ = pd.factorize(nyse_temporal[\"tic\"], sort=True)\n",
    "nasdaq_temporal = nyse_temporal[nyse_temporal[\"tic_id\"].isin(nodes_kept)]\n",
    "nasdaq_temporal = nasdaq_temporal.drop(columns=\"tic_id\")\n",
    "nasdaq_temporal"
   ],
   "id": "3706fab9aa2831ba",
   "outputs": [
    {
     "data": {
      "text/plain": [
       "          day      open      high       low     close    volume   tic\n",
       "0           0  0.578496  0.580309  0.567871  0.555112  0.593285     A\n",
       "1           0  0.586496  0.589924  0.593711  0.598892  0.603702   AAN\n",
       "2           0  0.357611  0.357296  0.359589  0.367068  0.361763   AAP\n",
       "3           0  0.602742  0.597432  0.592057  0.594226  0.620892   AAT\n",
       "4           0  0.535432  0.529228  0.526605  0.533735  0.555247    AB\n",
       "...       ...       ...       ...       ...       ...       ...   ...\n",
       "2162560  1244  0.961218  0.962850  0.965538  0.967666  0.959063  ZB-A\n",
       "2162561  1244  0.862950  0.864858  0.853509  0.855318  0.851905   ZBH\n",
       "2162562  1244  0.797489  0.798619  0.790712  0.792157  0.795982    ZF\n",
       "2162563  1244  0.712403  0.711281  0.688027  0.658353  0.734713   ZNH\n",
       "2162564  1244  0.922928  0.924033  0.918854  0.922100  0.910221   ZTR\n",
       "\n",
       "[2008185 rows x 7 columns]"
      ],
      "text/html": [
       "<div>\n",
       "<style scoped>\n",
       "    .dataframe tbody tr th:only-of-type {\n",
       "        vertical-align: middle;\n",
       "    }\n",
       "\n",
       "    .dataframe tbody tr th {\n",
       "        vertical-align: top;\n",
       "    }\n",
       "\n",
       "    .dataframe thead th {\n",
       "        text-align: right;\n",
       "    }\n",
       "</style>\n",
       "<table border=\"1\" class=\"dataframe\">\n",
       "  <thead>\n",
       "    <tr style=\"text-align: right;\">\n",
       "      <th></th>\n",
       "      <th>day</th>\n",
       "      <th>open</th>\n",
       "      <th>high</th>\n",
       "      <th>low</th>\n",
       "      <th>close</th>\n",
       "      <th>volume</th>\n",
       "      <th>tic</th>\n",
       "    </tr>\n",
       "  </thead>\n",
       "  <tbody>\n",
       "    <tr>\n",
       "      <th>0</th>\n",
       "      <td>0</td>\n",
       "      <td>0.578496</td>\n",
       "      <td>0.580309</td>\n",
       "      <td>0.567871</td>\n",
       "      <td>0.555112</td>\n",
       "      <td>0.593285</td>\n",
       "      <td>A</td>\n",
       "    </tr>\n",
       "    <tr>\n",
       "      <th>1</th>\n",
       "      <td>0</td>\n",
       "      <td>0.586496</td>\n",
       "      <td>0.589924</td>\n",
       "      <td>0.593711</td>\n",
       "      <td>0.598892</td>\n",
       "      <td>0.603702</td>\n",
       "      <td>AAN</td>\n",
       "    </tr>\n",
       "    <tr>\n",
       "      <th>2</th>\n",
       "      <td>0</td>\n",
       "      <td>0.357611</td>\n",
       "      <td>0.357296</td>\n",
       "      <td>0.359589</td>\n",
       "      <td>0.367068</td>\n",
       "      <td>0.361763</td>\n",
       "      <td>AAP</td>\n",
       "    </tr>\n",
       "    <tr>\n",
       "      <th>3</th>\n",
       "      <td>0</td>\n",
       "      <td>0.602742</td>\n",
       "      <td>0.597432</td>\n",
       "      <td>0.592057</td>\n",
       "      <td>0.594226</td>\n",
       "      <td>0.620892</td>\n",
       "      <td>AAT</td>\n",
       "    </tr>\n",
       "    <tr>\n",
       "      <th>4</th>\n",
       "      <td>0</td>\n",
       "      <td>0.535432</td>\n",
       "      <td>0.529228</td>\n",
       "      <td>0.526605</td>\n",
       "      <td>0.533735</td>\n",
       "      <td>0.555247</td>\n",
       "      <td>AB</td>\n",
       "    </tr>\n",
       "    <tr>\n",
       "      <th>...</th>\n",
       "      <td>...</td>\n",
       "      <td>...</td>\n",
       "      <td>...</td>\n",
       "      <td>...</td>\n",
       "      <td>...</td>\n",
       "      <td>...</td>\n",
       "      <td>...</td>\n",
       "    </tr>\n",
       "    <tr>\n",
       "      <th>2162560</th>\n",
       "      <td>1244</td>\n",
       "      <td>0.961218</td>\n",
       "      <td>0.962850</td>\n",
       "      <td>0.965538</td>\n",
       "      <td>0.967666</td>\n",
       "      <td>0.959063</td>\n",
       "      <td>ZB-A</td>\n",
       "    </tr>\n",
       "    <tr>\n",
       "      <th>2162561</th>\n",
       "      <td>1244</td>\n",
       "      <td>0.862950</td>\n",
       "      <td>0.864858</td>\n",
       "      <td>0.853509</td>\n",
       "      <td>0.855318</td>\n",
       "      <td>0.851905</td>\n",
       "      <td>ZBH</td>\n",
       "    </tr>\n",
       "    <tr>\n",
       "      <th>2162562</th>\n",
       "      <td>1244</td>\n",
       "      <td>0.797489</td>\n",
       "      <td>0.798619</td>\n",
       "      <td>0.790712</td>\n",
       "      <td>0.792157</td>\n",
       "      <td>0.795982</td>\n",
       "      <td>ZF</td>\n",
       "    </tr>\n",
       "    <tr>\n",
       "      <th>2162563</th>\n",
       "      <td>1244</td>\n",
       "      <td>0.712403</td>\n",
       "      <td>0.711281</td>\n",
       "      <td>0.688027</td>\n",
       "      <td>0.658353</td>\n",
       "      <td>0.734713</td>\n",
       "      <td>ZNH</td>\n",
       "    </tr>\n",
       "    <tr>\n",
       "      <th>2162564</th>\n",
       "      <td>1244</td>\n",
       "      <td>0.922928</td>\n",
       "      <td>0.924033</td>\n",
       "      <td>0.918854</td>\n",
       "      <td>0.922100</td>\n",
       "      <td>0.910221</td>\n",
       "      <td>ZTR</td>\n",
       "    </tr>\n",
       "  </tbody>\n",
       "</table>\n",
       "<p>2008185 rows × 7 columns</p>\n",
       "</div>"
      ]
     },
     "execution_count": 59,
     "metadata": {},
     "output_type": "execute_result"
    }
   ],
   "execution_count": 59
  },
  {
   "metadata": {},
   "cell_type": "markdown",
   "source": "",
   "id": "c3f3ca57f06c3e4"
  },
  {
   "metadata": {
    "ExecuteTime": {
     "end_time": "2024-06-02T16:53:23.414204Z",
     "start_time": "2024-06-02T16:53:23.407458Z"
    }
   },
   "cell_type": "code",
   "source": [
    "# reduce edge type\n",
    "new_edge_type = torch.from_numpy(nyse_edge_type)[edge_mask]\n",
    "_, new_edge_type = torch.unique(new_edge_type, return_inverse=True)\n",
    "new_edge_type"
   ],
   "id": "f16941a55d63a079",
   "outputs": [
    {
     "data": {
      "text/plain": [
       "tensor([ 0,  0,  0,  ..., 12, 12, 12])"
      ]
     },
     "execution_count": 60,
     "metadata": {},
     "output_type": "execute_result"
    }
   ],
   "execution_count": 60
  },
  {
   "cell_type": "code",
   "id": "e9630c0e-c795-4c78-b3c3-71cddd1b3934",
   "metadata": {
    "ExecuteTime": {
     "end_time": "2024-06-02T16:53:49.328837Z",
     "start_time": "2024-06-02T16:53:46.005245Z"
    }
   },
   "source": [
    "df_portfolio = nyse_temporal[[\"day\", \"tic\", \"close\", \"high\", \"low\"]]\n",
    "\n",
    "df_portfolio_train = df_portfolio[df_portfolio[\"day\"] < 979]\n",
    "df_portfolio_test = df_portfolio[df_portfolio[\"day\"] >= 979]\n",
    "\n",
    "environment_train = PortfolioOptimizationEnv(\n",
    "        df_portfolio_train,\n",
    "        initial_amount=100000,\n",
    "        comission_fee_pct=0,\n",
    "        time_window=50,\n",
    "        features=[\"close\", \"high\", \"low\"],\n",
    "        time_column=\"day\",\n",
    "        normalize_df=None, # dataframe is already normalized\n",
    "        tics_in_portfolio=tics_in_portfolio\n",
    "    )\n",
    "\n",
    "environment_test = PortfolioOptimizationEnv(\n",
    "        df_portfolio_test,\n",
    "        initial_amount=100000,\n",
    "        comission_fee_pct=0,\n",
    "        time_window=50,\n",
    "        features=[\"close\", \"high\", \"low\"],\n",
    "        time_column=\"day\",\n",
    "        normalize_df=None, # dataframe is already normalized\n",
    "        tics_in_portfolio=tics_in_portfolio\n",
    "    )"
   ],
   "outputs": [],
   "execution_count": 61
  },
  {
   "cell_type": "code",
   "id": "ed8e69b5-d40f-4dc6-af58-5ce31b82f25e",
   "metadata": {
    "ExecuteTime": {
     "end_time": "2024-06-02T16:53:54.447329Z",
     "start_time": "2024-06-02T16:53:54.432322Z"
    }
   },
   "source": [
    "from finrl.agents.portfolio_optimization.architectures import GPM\n",
    "# set PolicyGradient parameters\n",
    "model_kwargs = {\n",
    "    \"lr\": 0.01,\n",
    "    \"policy\": GPM,\n",
    "}\n",
    "\n",
    "# here, we can set GPM's parameters\n",
    "policy_kwargs = {\n",
    "    \"edge_index\": new_edge_index,\n",
    "    \"edge_type\": new_edge_type,\n",
    "    \"nodes_to_select\": nodes_to_select\n",
    "}\n",
    "\n",
    "model = DRLAgent(environment_train).get_model(\"pg\", device, model_kwargs, policy_kwargs)"
   ],
   "outputs": [],
   "execution_count": 62
  },
  {
   "cell_type": "code",
   "id": "2554195f-1b8d-45d9-8328-b8e698cc4bbd",
   "metadata": {
    "jupyter": {
     "is_executing": true
    },
    "ExecuteTime": {
     "start_time": "2024-06-02T16:53:58.640145Z"
    }
   },
   "source": "DRLAgent.train_model(model, episodes=5)",
   "outputs": [
    {
     "name": "stderr",
     "output_type": "stream",
     "text": [
      "  0%|          | 0/5 [00:00<?, ?it/s]"
     ]
    }
   ],
   "execution_count": null
  },
  {
   "metadata": {},
   "cell_type": "markdown",
   "source": "",
   "id": "8167dc3068f372b"
  },
  {
   "cell_type": "code",
   "id": "7ffff302-fa1b-4de1-8276-3b23a64af13e",
   "metadata": {
    "ExecuteTime": {
     "end_time": "2024-06-02T16:05:18.449822Z",
     "start_time": "2024-06-02T16:05:18.444277Z"
    }
   },
   "source": "torch.save(model.train_policy.state_dict(), \"policy_GPM.pt\")",
   "outputs": [],
   "execution_count": 23
  },
  {
   "metadata": {
    "ExecuteTime": {
     "end_time": "2024-06-02T16:06:58.908410Z",
     "start_time": "2024-06-02T16:05:22.173931Z"
    }
   },
   "cell_type": "code",
   "source": [
    "GPM_results = {\n",
    "    \"train\": environment_train._asset_memory[\"final\"],\n",
    "    \"test\": {},\n",
    "}\n",
    "\n",
    "# instantiate an architecture with the same arguments used in training\n",
    "# and load with load_state_dict.\n",
    "policy = GPM(new_edge_index, new_edge_type, nodes_to_select, device=device)\n",
    "policy.load_state_dict(torch.load(\"policy_GPM.pt\"))\n",
    "\n",
    "# testing\n",
    "DRLAgent.DRL_validation(model, environment_test, policy=policy)\n",
    "GPM_results[\"test\"] = environment_test._asset_memory[\"final\"]"
   ],
   "id": "9013b25a69997b08",
   "outputs": [
    {
     "name": "stdout",
     "output_type": "stream",
     "text": [
      "=================================\n",
      "Initial portfolio value:100000\n",
      "Final portfolio value: 246578.296875\n",
      "Final accumulative portfolio value: 2.46578296875\n",
      "Maximum DrawDown: -0.04796577198449303\n",
      "Sharpe ratio: 14.904339039256527\n",
      "=================================\n"
     ]
    }
   ],
   "execution_count": 24
  },
  {
   "metadata": {
    "ExecuteTime": {
     "end_time": "2024-06-02T16:12:06.173607Z",
     "start_time": "2024-06-02T16:12:06.168536Z"
    }
   },
   "cell_type": "code",
   "source": [
    "import matplotlib.pyplot as plt\n",
    "%matplotlib inline "
   ],
   "id": "2d2dc3231dc6303f",
   "outputs": [],
   "execution_count": 25
  },
  {
   "metadata": {
    "ExecuteTime": {
     "end_time": "2024-06-02T16:23:22.064121Z",
     "start_time": "2024-06-02T16:20:39.264049Z"
    }
   },
   "cell_type": "code",
   "source": [
    "UBAH_results = {\n",
    "    \"train\": {},\n",
    "    \"test\": {},\n",
    "}\n",
    "\n",
    "PORTFOLIO_SIZE = len(tics_in_portfolio)\n",
    "\n",
    "# train period\n",
    "terminated = False\n",
    "environment_train.reset()\n",
    "while not terminated:\n",
    "    action = [0] + [1/PORTFOLIO_SIZE] * PORTFOLIO_SIZE\n",
    "    _, _, terminated, _ = environment_train.step(action)\n",
    "UBAH_results[\"train\"] = environment_train._asset_memory[\"final\"]\n",
    "\n",
    "# test period\n",
    "terminated = False\n",
    "environment_test.reset()\n",
    "while not terminated:\n",
    "    action = [0] + [1/PORTFOLIO_SIZE] * PORTFOLIO_SIZE\n",
    "    _, _, terminated, _ = environment_test.step(action)\n",
    "UBAH_results[\"test\"] = environment_test._asset_memory[\"final\"]"
   ],
   "id": "6a47e98ab9194a01",
   "outputs": [
    {
     "name": "stdout",
     "output_type": "stream",
     "text": [
      "=================================\n",
      "Initial portfolio value:100000\n",
      "Final portfolio value: 188856.96875\n",
      "Final accumulative portfolio value: 1.8885696875\n",
      "Maximum DrawDown: -0.11218720025154905\n",
      "Sharpe ratio: 6.747454371973809\n",
      "=================================\n",
      "=================================\n",
      "Initial portfolio value:100000\n",
      "Final portfolio value: 132162.4375\n",
      "Final accumulative portfolio value: 1.321624375\n",
      "Maximum DrawDown: -0.005481655059311086\n",
      "Sharpe ratio: 22.470053116530362\n",
      "=================================\n"
     ]
    }
   ],
   "execution_count": 35
  },
  {
   "metadata": {
    "ExecuteTime": {
     "end_time": "2024-06-02T16:24:01.365948Z",
     "start_time": "2024-06-02T16:24:01.285007Z"
    }
   },
   "cell_type": "code",
   "source": [
    "plt.plot(UBAH_results[\"train\"], label=\"Buy and Hold\")\n",
    "plt.plot(GPM_results[\"train\"], label=\"GPM\")\n",
    "\n",
    "plt.xlabel(\"Days\")\n",
    "plt.ylabel(\"Portfolio Value\")\n",
    "plt.title(\"Performance in training period\")\n",
    "plt.legend()\n",
    "\n",
    "plt.show()"
   ],
   "id": "a3c93dc7db7fff22",
   "outputs": [
    {
     "data": {
      "text/plain": [
       "<Figure size 1000x600 with 1 Axes>"
      ],
      "image/png": "[encoded data removed]"
     },
     "metadata": {},
     "output_type": "display_data"
    }
   ],
   "execution_count": 36
  },
  {
   "metadata": {
    "ExecuteTime": {
     "end_time": "2024-06-02T16:24:30.704622Z",
     "start_time": "2024-06-02T16:24:30.619Z"
    }
   },
   "cell_type": "code",
   "source": [
    "plt.plot(UBAH_results[\"test\"], label=\"Buy and Hold\")\n",
    "plt.plot(GPM_results[\"test\"], label=\"GPM\")\n",
    "\n",
    "plt.xlabel(\"Days\")\n",
    "plt.ylabel(\"Portfolio Value\")\n",
    "plt.title(\"Performance in testing period\")\n",
    "plt.legend()\n",
    "\n",
    "plt.show()"
   ],
   "id": "2346d29ffd7f12e3",
   "outputs": [
    {
     "data": {
      "text/plain": [
       "<Figure size 1000x600 with 1 Axes>"
      ],
      "image/png": "[encoded data removed]"
     },
     "metadata": {},
     "output_type": "display_data"
    }
   ],
   "execution_count": 37
  },
  {
   "metadata": {},
   "cell_type": "code",
   "outputs": [],
   "execution_count": null,
   "source": "",
   "id": "5a100725cfb7b6ad"
  }
 ],
 "metadata": {
  "kernelspec": {
   "display_name": "Python (cs234_final_project)",
   "language": "python",
   "name": "cs234_final_project"
  },
  "language_info": {
   "codemirror_mode": {
    "name": "ipython",
    "version": 3
   },
   "file_extension": ".py",
   "mimetype": "text/x-python",
   "name": "python",
   "nbconvert_exporter": "python",
   "pygments_lexer": "ipython3",
   "version": "3.10.14"
  }
 },
 "nbformat": 4,
 "nbformat_minor": 5
}

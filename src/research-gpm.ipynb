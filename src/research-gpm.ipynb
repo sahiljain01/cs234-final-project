{
 "cells": [
  {
   "cell_type": "code",
   "execution_count": 6,
   "id": "21e7812a-823d-4568-80ab-d05bb18df523",
   "metadata": {},
   "outputs": [],
   "source": [
    "import sys\n",
    "import os\n",
    "\n",
    "script_path = os.path.abspath('')\n",
    "current_file_dir = os.path.dirname(script_path)\n",
    "sys.path.insert(0, f\"{current_file_dir}/FinRL/\")\n",
    "\n",
    "import logging\n",
    "import pandas as pd\n",
    "import numpy as np\n",
    "import datetime\n",
    "import torch\n",
    "import yfinance as yf\n",
    "\n",
    "from finrl.meta.preprocessor.yahoodownloader import YahooDownloader\n",
    "from finrl.meta.preprocessor.preprocessors import FeatureEngineer, data_split\n",
    "from finrl import config_tickers\n",
    "from finrl.config import INDICATORS\n",
    "\n",
    "from finrl.meta.preprocessor.preprocessors import GroupByScaler\n",
    "from finrl.meta.env_portfolio_optimization.env_portfolio_optimization import PortfolioOptimizationEnv\n",
    "from finrl.agents.portfolio_optimization.models import DRLAgent\n",
    "from finrl.agents.portfolio_optimization.architectures import EIIE\n",
    "\n",
    "import src.env as env \n",
    "\n",
    "device = 'cuda:0' if torch.cuda.is_available() else 'cpu'"
   ]
  },
  {
   "cell_type": "code",
   "execution_count": 7,
   "id": "b9034f29-2a53-404c-a2b3-22813237c494",
   "metadata": {
    "editable": true,
    "slideshow": {
     "slide_type": ""
    },
    "tags": []
   },
   "outputs": [
    {
     "data": {
      "text/plain": [
       "28"
      ]
     },
     "execution_count": 7,
     "metadata": {},
     "output_type": "execute_result"
    }
   ],
   "source": [
    "len(env.STOCKS)"
   ]
  },
  {
   "cell_type": "code",
   "execution_count": 8,
   "id": "e767eff1-606a-44e0-b093-0e0a621e4924",
   "metadata": {},
   "outputs": [
    {
     "name": "stdout",
     "output_type": "stream",
     "text": [
      "2018-01-01 00:00:00\n"
     ]
    }
   ],
   "source": [
    "print(env.VALIDATION_START)"
   ]
  },
  {
   "cell_type": "code",
   "execution_count": 9,
   "id": "e74ba0d7-40e4-4a61-859b-f1c0346ff127",
   "metadata": {},
   "outputs": [
    {
     "name": "stdout",
     "output_type": "stream",
     "text": [
      "2019-01-01 00:00:00\n"
     ]
    }
   ],
   "source": [
    "print(env.TEST_START)"
   ]
  },
  {
   "cell_type": "code",
   "execution_count": 10,
   "id": "d8ff93ff-26ff-4ece-bd7b-3f237a645946",
   "metadata": {
    "editable": true,
    "slideshow": {
     "slide_type": ""
    },
    "tags": []
   },
   "outputs": [],
   "source": [
    "def load_data() -> pd.DataFrame:\n",
    "    # download data\n",
    "    stocks = env.STOCKS\n",
    "    script_path = os.path.abspath('')\n",
    "    current_file_dir = os.path.dirname(script_path)\n",
    "    data_path = os.path.join(\n",
    "           current_file_dir, \n",
    "           \"src\",\n",
    "           \"data\", \n",
    "           f\"{env.TIME_RANGE_START}-{env.TIME_RANGE_START}-{'-'.join(env.STOCKS)}.pkl\"\n",
    "    )\n",
    "    if not os.path.isfile(data_path): \n",
    "       df = YahooDownloader(\n",
    "               start_date = env.TIME_RANGE_START,\n",
    "               end_date = env.TIME_RANGE_END,\n",
    "               ticker_list = env.STOCKS,\n",
    "            ).fetch_data()\n",
    "       df.to_pickle(data_path)\n",
    "    else:\n",
    "       df = pd.read_pickle(data_path)\n",
    "    return df\n"
   ]
  },
  {
   "cell_type": "code",
   "execution_count": 11,
   "id": "8f2a2758-96ee-45bf-8aa5-672c8b5c4416",
   "metadata": {
    "editable": true,
    "scrolled": true,
    "slideshow": {
     "slide_type": ""
    },
    "tags": []
   },
   "outputs": [
    {
     "name": "stderr",
     "output_type": "stream",
     "text": [
      "[*********************100%%**********************]  1 of 1 completed\n",
      "[*********************100%%**********************]  1 of 1 completed\n",
      "[*********************100%%**********************]  1 of 1 completed\n",
      "[*********************100%%**********************]  1 of 1 completed\n",
      "[*********************100%%**********************]  1 of 1 completed\n",
      "[*********************100%%**********************]  1 of 1 completed\n",
      "[*********************100%%**********************]  1 of 1 completed\n",
      "[*********************100%%**********************]  1 of 1 completed\n",
      "[*********************100%%**********************]  1 of 1 completed\n",
      "[*********************100%%**********************]  1 of 1 completed\n",
      "[*********************100%%**********************]  1 of 1 completed\n",
      "[*********************100%%**********************]  1 of 1 completed\n",
      "[*********************100%%**********************]  1 of 1 completed\n",
      "[*********************100%%**********************]  1 of 1 completed\n",
      "[*********************100%%**********************]  1 of 1 completed\n",
      "[*********************100%%**********************]  1 of 1 completed\n",
      "[*********************100%%**********************]  1 of 1 completed\n",
      "[*********************100%%**********************]  1 of 1 completed\n",
      "[*********************100%%**********************]  1 of 1 completed\n",
      "[*********************100%%**********************]  1 of 1 completed\n",
      "[*********************100%%**********************]  1 of 1 completed\n",
      "[*********************100%%**********************]  1 of 1 completed\n",
      "[*********************100%%**********************]  1 of 1 completed\n",
      "[*********************100%%**********************]  1 of 1 completed\n",
      "[*********************100%%**********************]  1 of 1 completed\n",
      "[*********************100%%**********************]  1 of 1 completed\n",
      "[*********************100%%**********************]  1 of 1 completed\n",
      "[*********************100%%**********************]  1 of 1 completed\n"
     ]
    },
    {
     "name": "stdout",
     "output_type": "stream",
     "text": [
      "Shape of DataFrame:  (70448, 8)\n",
      "Successfully added technical indicators\n"
     ]
    }
   ],
   "source": [
    "df = load_data()\n",
    "\n",
    "# preprocess data, calculate set of technical indicators on the data\n",
    "fe = FeatureEngineer(\n",
    "       use_technical_indicator=True,\n",
    "       tech_indicator_list = env.INDICATORS\n",
    "    )\n",
    "\n",
    "df_t = fe.preprocess_data(df)\n",
    "fmt = \"%Y-%m-%d\"\n",
    "train_df = data_split(df, env.TRAIN_START.strftime(fmt), env.TRAIN_END.strftime(fmt))\n",
    "test_df = data_split(df, env.TEST_START.strftime(fmt), env.TEST_END.strftime(fmt))"
   ]
  },
  {
   "cell_type": "markdown",
   "id": "b20ac1ad-c9e7-4b42-a7a6-ede45abcd9ca",
   "metadata": {},
   "source": [
    "### Load in graph and temporal data to enhance feature space"
   ]
  },
  {
   "cell_type": "code",
   "execution_count": 6,
   "id": "b6ce1528-5cdd-4bc6-9d10-49788d7e49b5",
   "metadata": {
    "editable": true,
    "scrolled": true,
    "slideshow": {
     "slide_type": ""
    },
    "tags": []
   },
   "outputs": [],
   "source": [
    "if not os.path.isfile(\"Temporal_Relational_Stock_Ranking_FinRL/temporal_data/NASDAQ_temporal_data.csv\"):\n",
    "    !curl -L -o Temporal_Relational_Stock_Ranking_FinRL-main.zip https://github.com/C4i0kun/Temporal_Relational_Stock_Ranking_FinRL/archive/refs/heads/main.zip\n",
    "    !unzip Temporal_Relational_Stock_Ranking_FinRL-main.zip\n",
    "    !mv Temporal_Relational_Stock_Ranking_FinRL-main Temporal_Relational_Stock_Ranking_FinRL\n",
    "    !tar -xzvf Temporal_Relational_Stock_Ranking_FinRL/temporal_data/temporal_data_processed.tar.gz -C Temporal_Relational_Stock_Ranking_FinRL/temporal_data"
   ]
  },
  {
   "cell_type": "code",
   "execution_count": 9,
   "id": "d037e3a3-7425-4078-8dfb-ba1ff98c3647",
   "metadata": {},
   "outputs": [],
   "source": [
    "temporal_nyse = pd.read_csv(\"Temporal_Relational_Stock_Ranking_FinRL/temporal_data/NYSE_temporal_data.csv\")\n",
    "temporal_nasdaq = pd.read_csv(\"Temporal_Relational_Stock_Ranking_FinRL/temporal_data/NASDAQ_temporal_data.csv\")"
   ]
  },
  {
   "cell_type": "code",
   "execution_count": 10,
   "id": "14de0664-a208-4a53-b136-eac8b0d588a6",
   "metadata": {
    "editable": true,
    "scrolled": true,
    "slideshow": {
     "slide_type": ""
    },
    "tags": []
   },
   "outputs": [
    {
     "data": {
      "text/plain": [
       "set()"
      ]
     },
     "execution_count": 10,
     "metadata": {},
     "output_type": "execute_result"
    }
   ],
   "source": [
    "set(env.STOCKS) - set(list(temporal_nyse[\"tic\"].unique()) + list(temporal_nasdaq[\"tic\"].unique()))"
   ]
  },
  {
   "cell_type": "code",
   "execution_count": 11,
   "id": "3faf5f19-7d48-48c7-8a28-55a1fb2c2887",
   "metadata": {
    "editable": true,
    "slideshow": {
     "slide_type": ""
    },
    "tags": []
   },
   "outputs": [],
   "source": [
    "from torch_geometric.utils import k_hop_subgraph"
   ]
  },
  {
   "cell_type": "code",
   "execution_count": 12,
   "id": "38d5bcc4-1fb1-4e75-a50d-84f5497b32fc",
   "metadata": {
    "editable": true,
    "slideshow": {
     "slide_type": ""
    },
    "tags": []
   },
   "outputs": [
    {
     "data": {
      "text/html": [
       "<div>\n",
       "<style scoped>\n",
       "    .dataframe tbody tr th:only-of-type {\n",
       "        vertical-align: middle;\n",
       "    }\n",
       "\n",
       "    .dataframe tbody tr th {\n",
       "        vertical-align: top;\n",
       "    }\n",
       "\n",
       "    .dataframe thead th {\n",
       "        text-align: right;\n",
       "    }\n",
       "</style>\n",
       "<table border=\"1\" class=\"dataframe\">\n",
       "  <thead>\n",
       "    <tr style=\"text-align: right;\">\n",
       "      <th></th>\n",
       "      <th>day</th>\n",
       "      <th>open</th>\n",
       "      <th>high</th>\n",
       "      <th>low</th>\n",
       "      <th>close</th>\n",
       "      <th>volume</th>\n",
       "      <th>tic</th>\n",
       "    </tr>\n",
       "  </thead>\n",
       "  <tbody>\n",
       "    <tr>\n",
       "      <th>0</th>\n",
       "      <td>0</td>\n",
       "      <td>0.578496</td>\n",
       "      <td>0.580309</td>\n",
       "      <td>0.567871</td>\n",
       "      <td>0.555112</td>\n",
       "      <td>0.593285</td>\n",
       "      <td>A</td>\n",
       "    </tr>\n",
       "    <tr>\n",
       "      <th>1</th>\n",
       "      <td>0</td>\n",
       "      <td>0.586496</td>\n",
       "      <td>0.589924</td>\n",
       "      <td>0.593711</td>\n",
       "      <td>0.598892</td>\n",
       "      <td>0.603702</td>\n",
       "      <td>AAN</td>\n",
       "    </tr>\n",
       "    <tr>\n",
       "      <th>2</th>\n",
       "      <td>0</td>\n",
       "      <td>0.357611</td>\n",
       "      <td>0.357296</td>\n",
       "      <td>0.359589</td>\n",
       "      <td>0.367068</td>\n",
       "      <td>0.361763</td>\n",
       "      <td>AAP</td>\n",
       "    </tr>\n",
       "    <tr>\n",
       "      <th>3</th>\n",
       "      <td>0</td>\n",
       "      <td>0.602742</td>\n",
       "      <td>0.597432</td>\n",
       "      <td>0.592057</td>\n",
       "      <td>0.594226</td>\n",
       "      <td>0.620892</td>\n",
       "      <td>AAT</td>\n",
       "    </tr>\n",
       "    <tr>\n",
       "      <th>4</th>\n",
       "      <td>0</td>\n",
       "      <td>0.535432</td>\n",
       "      <td>0.529228</td>\n",
       "      <td>0.526605</td>\n",
       "      <td>0.533735</td>\n",
       "      <td>0.555247</td>\n",
       "      <td>AB</td>\n",
       "    </tr>\n",
       "    <tr>\n",
       "      <th>...</th>\n",
       "      <td>...</td>\n",
       "      <td>...</td>\n",
       "      <td>...</td>\n",
       "      <td>...</td>\n",
       "      <td>...</td>\n",
       "      <td>...</td>\n",
       "      <td>...</td>\n",
       "    </tr>\n",
       "    <tr>\n",
       "      <th>2162560</th>\n",
       "      <td>1244</td>\n",
       "      <td>0.961218</td>\n",
       "      <td>0.962850</td>\n",
       "      <td>0.965538</td>\n",
       "      <td>0.967666</td>\n",
       "      <td>0.959063</td>\n",
       "      <td>ZB-A</td>\n",
       "    </tr>\n",
       "    <tr>\n",
       "      <th>2162561</th>\n",
       "      <td>1244</td>\n",
       "      <td>0.862950</td>\n",
       "      <td>0.864858</td>\n",
       "      <td>0.853509</td>\n",
       "      <td>0.855318</td>\n",
       "      <td>0.851905</td>\n",
       "      <td>ZBH</td>\n",
       "    </tr>\n",
       "    <tr>\n",
       "      <th>2162562</th>\n",
       "      <td>1244</td>\n",
       "      <td>0.797489</td>\n",
       "      <td>0.798619</td>\n",
       "      <td>0.790712</td>\n",
       "      <td>0.792157</td>\n",
       "      <td>0.795982</td>\n",
       "      <td>ZF</td>\n",
       "    </tr>\n",
       "    <tr>\n",
       "      <th>2162563</th>\n",
       "      <td>1244</td>\n",
       "      <td>0.712403</td>\n",
       "      <td>0.711281</td>\n",
       "      <td>0.688027</td>\n",
       "      <td>0.658353</td>\n",
       "      <td>0.734713</td>\n",
       "      <td>ZNH</td>\n",
       "    </tr>\n",
       "    <tr>\n",
       "      <th>2162564</th>\n",
       "      <td>1244</td>\n",
       "      <td>0.922928</td>\n",
       "      <td>0.924033</td>\n",
       "      <td>0.918854</td>\n",
       "      <td>0.922100</td>\n",
       "      <td>0.910221</td>\n",
       "      <td>ZTR</td>\n",
       "    </tr>\n",
       "  </tbody>\n",
       "</table>\n",
       "<p>2162565 rows × 7 columns</p>\n",
       "</div>"
      ],
      "text/plain": [
       "          day      open      high       low     close    volume   tic\n",
       "0           0  0.578496  0.580309  0.567871  0.555112  0.593285     A\n",
       "1           0  0.586496  0.589924  0.593711  0.598892  0.603702   AAN\n",
       "2           0  0.357611  0.357296  0.359589  0.367068  0.361763   AAP\n",
       "3           0  0.602742  0.597432  0.592057  0.594226  0.620892   AAT\n",
       "4           0  0.535432  0.529228  0.526605  0.533735  0.555247    AB\n",
       "...       ...       ...       ...       ...       ...       ...   ...\n",
       "2162560  1244  0.961218  0.962850  0.965538  0.967666  0.959063  ZB-A\n",
       "2162561  1244  0.862950  0.864858  0.853509  0.855318  0.851905   ZBH\n",
       "2162562  1244  0.797489  0.798619  0.790712  0.792157  0.795982    ZF\n",
       "2162563  1244  0.712403  0.711281  0.688027  0.658353  0.734713   ZNH\n",
       "2162564  1244  0.922928  0.924033  0.918854  0.922100  0.910221   ZTR\n",
       "\n",
       "[2162565 rows x 7 columns]"
      ]
     },
     "execution_count": 12,
     "metadata": {},
     "output_type": "execute_result"
    }
   ],
   "source": [
    "temporal_nyse"
   ]
  },
  {
   "cell_type": "code",
   "execution_count": null,
   "id": "207ab7ab-230d-40e7-9cd3-d244e5f4ceb3",
   "metadata": {},
   "outputs": [],
   "source": []
  }
 ],
 "metadata": {
  "kernelspec": {
   "display_name": "Python 3 (ipykernel)",
   "language": "python",
   "name": "python3"
  },
  "language_info": {
   "codemirror_mode": {
    "name": "ipython",
    "version": 3
   },
   "file_extension": ".py",
   "mimetype": "text/x-python",
   "name": "python",
   "nbconvert_exporter": "python",
   "pygments_lexer": "ipython3",
   "version": "3.10.14"
  }
 },
 "nbformat": 4,
 "nbformat_minor": 5
}

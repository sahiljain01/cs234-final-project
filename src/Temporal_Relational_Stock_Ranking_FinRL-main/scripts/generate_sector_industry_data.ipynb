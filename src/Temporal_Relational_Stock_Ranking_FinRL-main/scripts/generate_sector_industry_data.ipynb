{
 "cells": [
  {
   "cell_type": "markdown",
   "metadata": {},
   "source": [
    "# Industry Relation"
   ]
  },
  {
   "cell_type": "code",
   "execution_count": 53,
   "metadata": {},
   "outputs": [],
   "source": [
    "import numpy as np"
   ]
  },
  {
   "cell_type": "code",
   "execution_count": 54,
   "metadata": {},
   "outputs": [],
   "source": [
    "# Set the stock market (NASDAQ or NYSE)\n",
    "market = \"NASDAQ\""
   ]
  },
  {
   "cell_type": "code",
   "execution_count": 55,
   "metadata": {},
   "outputs": [],
   "source": [
    "a = np.load(\"../Temporal_Relational_Stock_Ranking/data/relation/sector_industry/{}_industry_relation.npy\".format(market))"
   ]
  },
  {
   "cell_type": "code",
   "execution_count": 56,
   "metadata": {},
   "outputs": [
    {
     "data": {
      "text/plain": [
       "(1026, 1026, 97)"
      ]
     },
     "execution_count": 56,
     "metadata": {},
     "output_type": "execute_result"
    }
   ],
   "source": [
    "a.shape"
   ]
  },
  {
   "cell_type": "markdown",
   "metadata": {},
   "source": [
    "## Consistency Tests\n",
    "\n",
    "Consider R(A, B) is the relation vector between stock A and B. The relation vector has size `num_relations` and value 1 in the index of the type of relation. So a relation vector must be something like this: `[1 0 ... 0]` with all but one value of the vector being 0.\n",
    "\n",
    "For some reason, the relation vector of the same stock always has its last value as 1, so R(A, A) might have the following values, in this case: `[1 0 ... 0 1].` "
   ]
  },
  {
   "cell_type": "markdown",
   "metadata": {},
   "source": [
    "### Apparently, the last relation type is always 0 in R(A,B) relations"
   ]
  },
  {
   "cell_type": "code",
   "execution_count": 57,
   "metadata": {},
   "outputs": [],
   "source": [
    "for i in range(a.shape[0]):\n",
    "    for j in range(a.shape[1]):\n",
    "        if a[i][j][-1] == 1 and i != j:\n",
    "            print(\"ERROR: last relation type value 1 in R(A,B)\")"
   ]
  },
  {
   "cell_type": "markdown",
   "metadata": {},
   "source": [
    "### The last relation type is always 1 in R(A,A) relations"
   ]
  },
  {
   "cell_type": "code",
   "execution_count": 58,
   "metadata": {},
   "outputs": [],
   "source": [
    "for i in range(a.shape[0]):\n",
    "        if a[i][i][-1] == 0:\n",
    "            print(\"ERROR: last relation type value 0 in R(A,B)\")"
   ]
  },
  {
   "cell_type": "markdown",
   "metadata": {},
   "source": [
    "### R(A, A) needs to have at least one value 1\n",
    "\n",
    "Since the stock is of the same industry sector of itself and it must have at least one industry sector."
   ]
  },
  {
   "cell_type": "code",
   "execution_count": 59,
   "metadata": {},
   "outputs": [],
   "source": [
    "for i in range(a.shape[0]):\n",
    "    sum = np.sum(a[i][i])\n",
    "    if sum <= 0:\n",
    "        print(\"ERROR: condition not met!\")"
   ]
  },
  {
   "cell_type": "markdown",
   "metadata": {},
   "source": [
    "### R(A, B) must have only 1 relation type"
   ]
  },
  {
   "cell_type": "code",
   "execution_count": 60,
   "metadata": {},
   "outputs": [],
   "source": [
    "for i in range(a.shape[0]):\n",
    "    for j in range(a.shape[1]):\n",
    "        if np.sum(a[i][j]) > 1 and i != j:\n",
    "            print(\"ERROR: 2 relations in R(A,B)\")"
   ]
  },
  {
   "cell_type": "markdown",
   "metadata": {},
   "source": [
    "### R(A, B) = R(B, A)\n",
    "\n",
    "Since the order shouldn't matter: if A is of the same industry sector than B, the opposite is also true."
   ]
  },
  {
   "cell_type": "code",
   "execution_count": 61,
   "metadata": {},
   "outputs": [],
   "source": [
    "for i in range(a.shape[0]):\n",
    "    for j in range(a.shape[1]):\n",
    "        equal = np.array_equal(a[i][j], a[j][i])\n",
    "        if not equal:\n",
    "            print(\"ERROR: Not equal!\")"
   ]
  },
  {
   "cell_type": "markdown",
   "metadata": {},
   "source": [
    "### R(A, B) ⊂ R(A, A)\n",
    "\n",
    "Since R(A,B) is basically the intersection of the industry sectors of both A and B."
   ]
  },
  {
   "cell_type": "code",
   "execution_count": 62,
   "metadata": {},
   "outputs": [],
   "source": [
    "for i in range(a.shape[0]):\n",
    "    for j in range(a.shape[1]):\n",
    "        result_1 = a[i][j] * a[i][i]\n",
    "        result_2 = a[j][i] * a[i][i]\n",
    "        if not np.array_equal(result_1, a[i][j]):\n",
    "            print(\"ERROR: Not equal!\")\n",
    "        if not np.array_equal(result_2, a[j][i]):\n",
    "            print(\"ERROR: Not equal!\")"
   ]
  },
  {
   "cell_type": "markdown",
   "metadata": {},
   "source": [
    "## Conversion to edge_index"
   ]
  },
  {
   "cell_type": "code",
   "execution_count": 63,
   "metadata": {},
   "outputs": [],
   "source": [
    "# function to add edge to edge_index\n",
    "def add_edge(edge_index, orig_node, dest_node, undirected=True):\n",
    "    array_to_add = np.array([[orig_node], [dest_node]])\n",
    "    if edge_index is None:\n",
    "        new_edge_index = array_to_add.copy()\n",
    "    else:\n",
    "        new_edge_index = np.hstack((edge_index, array_to_add))\n",
    "    if undirected:\n",
    "        array_to_add = np.array([[dest_node], [orig_node]])\n",
    "        new_edge_index = np.hstack((new_edge_index, array_to_add))\n",
    "    return new_edge_index"
   ]
  },
  {
   "cell_type": "code",
   "execution_count": 64,
   "metadata": {},
   "outputs": [
    {
     "name": "stdout",
     "output_type": "stream",
     "text": [
      "26293\n",
      "(2, 52586)\n",
      "(52586,)\n",
      "1025\n"
     ]
    }
   ],
   "source": [
    "# loop array\n",
    "edges = 0\n",
    "edge_index = None\n",
    "edge_type = []\n",
    "\n",
    "# since sector industry data is commutative (R(A, B) = R(B, A)),\n",
    "# we dont need to loop through all the the matrix. We are also\n",
    "# disconsidering edges from R(A, A).\n",
    "for i in range(a.shape[0]):\n",
    "    for j in range(i + 1, a.shape[1]):\n",
    "        if a[i][j].sum() > 0:\n",
    "            edge_index = add_edge(edge_index, i, j)\n",
    "            type_ = np.where(a[i][j] == 1)[0][0]\n",
    "            # append twice because two items are added to\n",
    "            # edge_index (undirected graph).\n",
    "            edge_type.append(type_)\n",
    "            edge_type.append(type_)\n",
    "            edges += 1\n",
    "\n",
    "edge_type = np.array(edge_type)\n",
    "\n",
    "print(edges)\n",
    "print(edge_index.shape)\n",
    "print(edge_type.shape)\n",
    "print(np.max(edge_index))"
   ]
  },
  {
   "cell_type": "markdown",
   "metadata": {},
   "source": [
    "## Save"
   ]
  },
  {
   "cell_type": "code",
   "execution_count": 65,
   "metadata": {},
   "outputs": [],
   "source": [
    "np.save(\"../relational_data/edge_indexes/{}_sector_industry_edge_index.npy\".format(market), edge_index)\n",
    "np.save(\"../relational_data/edge_types/{}_sector_industry_edge_type.npy\".format(market), edge_type)"
   ]
  },
  {
   "cell_type": "markdown",
   "metadata": {},
   "source": [
    "## Visualization"
   ]
  },
  {
   "cell_type": "code",
   "execution_count": 19,
   "metadata": {},
   "outputs": [],
   "source": [
    "import torch\n",
    "from torch_geometric.data import Data\n",
    "\n",
    "edge_index = torch.tensor(edge_index, dtype=torch.long)\n",
    "x = torch.zeros(1, a.shape[0])\n",
    "\n",
    "data = Data(x=x, edge_index=edge_index, num_nodes=a.shape[0])"
   ]
  },
  {
   "cell_type": "code",
   "execution_count": 20,
   "metadata": {},
   "outputs": [],
   "source": [
    "import networkx as nx\n",
    "from torch_geometric.utils import to_networkx\n",
    "\n",
    "g = to_networkx(data, to_undirected=True)\n",
    "nx.write_gexf(g, \"../relational_data/gephi_visualizations/{}_sector_industry.gexf\".format(market))"
   ]
  }
 ],
 "metadata": {
  "kernelspec": {
   "display_name": "graph",
   "language": "python",
   "name": "python3"
  },
  "language_info": {
   "codemirror_mode": {
    "name": "ipython",
    "version": 3
   },
   "file_extension": ".py",
   "mimetype": "text/x-python",
   "name": "python",
   "nbconvert_exporter": "python",
   "pygments_lexer": "ipython3",
   "version": "3.10.13"
  }
 },
 "nbformat": 4,
 "nbformat_minor": 2
}

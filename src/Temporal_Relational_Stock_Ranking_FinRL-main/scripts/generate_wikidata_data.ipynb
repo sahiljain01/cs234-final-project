{
 "cells": [
  {
   "cell_type": "markdown",
   "metadata": {},
   "source": [
    "# WikiData Relation"
   ]
  },
  {
   "cell_type": "code",
   "execution_count": 21,
   "metadata": {},
   "outputs": [],
   "source": [
    "import numpy as np"
   ]
  },
  {
   "cell_type": "code",
   "execution_count": 22,
   "metadata": {},
   "outputs": [],
   "source": [
    "# Set the stock market (NASDAQ or NYSE)\n",
    "market = \"NYSE\""
   ]
  },
  {
   "cell_type": "code",
   "execution_count": 23,
   "metadata": {},
   "outputs": [],
   "source": [
    "a = np.load(\"../Temporal_Relational_Stock_Ranking/data/relation/wikidata/{}_wiki_relation.npy\".format(market))"
   ]
  },
  {
   "cell_type": "code",
   "execution_count": 24,
   "metadata": {},
   "outputs": [
    {
     "data": {
      "text/plain": [
       "(1737, 1737, 33)"
      ]
     },
     "execution_count": 24,
     "metadata": {},
     "output_type": "execute_result"
    }
   ],
   "source": [
    "a.shape"
   ]
  },
  {
   "cell_type": "markdown",
   "metadata": {},
   "source": [
    "## Consistency Tests\n",
    "\n",
    "Consider R(A, B) is the relation vector between stock A and B. The relation vector has size `num_relations` and value 1 in the index of the type of relation. Differently from sector industry, in this case, a relation vector can have multiple types, so a vector like this is possible: `[1 0 ... 1 0]`. Note that, for that reason, there will be duplicate edges in `edge_index`, but they will have different relation types. Additionally, keep in mind that this graph is directed.\n",
    "\n",
    "For some reason, the relation vector of the same stock always has its last value as 1, so R(A, A) might have the following values, in this case: `[1 0 ... 1 1].` "
   ]
  },
  {
   "cell_type": "markdown",
   "metadata": {},
   "source": [
    "### Apparently, the last relation type is always 0 in R(A,B) relations"
   ]
  },
  {
   "cell_type": "code",
   "execution_count": 25,
   "metadata": {},
   "outputs": [],
   "source": [
    "for i in range(a.shape[0]):\n",
    "    for j in range(a.shape[1]):\n",
    "        if a[i][j][-1] == 1 and i != j:\n",
    "            print(\"ERROR: last relation type value 1 in R(A,B)\")"
   ]
  },
  {
   "cell_type": "markdown",
   "metadata": {},
   "source": [
    "### The last relation type is always 1 in R(A,A) relations"
   ]
  },
  {
   "cell_type": "code",
   "execution_count": 26,
   "metadata": {},
   "outputs": [],
   "source": [
    "for i in range(a.shape[0]):\n",
    "        if a[i][i][-1] == 0:\n",
    "            print(\"ERROR: last relation type value 0 in R(A,B)\")"
   ]
  },
  {
   "cell_type": "markdown",
   "metadata": {},
   "source": [
    "### R(A, A) needs to have only one value 1"
   ]
  },
  {
   "cell_type": "code",
   "execution_count": 27,
   "metadata": {},
   "outputs": [],
   "source": [
    "for i in range(a.shape[0]):\n",
    "    sum = np.sum(a[i][i])\n",
    "    if sum != 1:\n",
    "        print(\"ERROR: condition not met!\")"
   ]
  },
  {
   "cell_type": "markdown",
   "metadata": {},
   "source": [
    "## Conversion to edge_index\n",
    "\n",
    "In the wikidata, the graph is directed, so it might take longer."
   ]
  },
  {
   "cell_type": "code",
   "execution_count": 28,
   "metadata": {},
   "outputs": [],
   "source": [
    "# function to add edge to edge_index\n",
    "def add_edge(edge_index, orig_node, dest_node, undirected=True):\n",
    "    array_to_add = np.array([[orig_node], [dest_node]])\n",
    "    if edge_index is None:\n",
    "        new_edge_index = array_to_add.copy()\n",
    "    else:\n",
    "        new_edge_index = np.hstack((edge_index, array_to_add))\n",
    "    if undirected:\n",
    "        array_to_add = np.array([[dest_node], [orig_node]])\n",
    "        new_edge_index = np.hstack((new_edge_index, array_to_add))\n",
    "    return new_edge_index"
   ]
  },
  {
   "cell_type": "code",
   "execution_count": 29,
   "metadata": {},
   "outputs": [
    {
     "name": "stdout",
     "output_type": "stream",
     "text": [
      "8765\n",
      "(2, 8765)\n",
      "(8765,)\n",
      "1735\n"
     ]
    }
   ],
   "source": [
    "# loop array\n",
    "edges = 0\n",
    "edge_index = None\n",
    "edge_type = []\n",
    "\n",
    "# loop through all relations.\n",
    "for i in range(a.shape[0]):\n",
    "    for j in range(a.shape[1]):\n",
    "        if i != j and a[i][j].sum() > 0:\n",
    "            types = np.where(a[i][j] == 1)[0]\n",
    "            for type_ in types:\n",
    "                edge_index = add_edge(edge_index, i, j, undirected=False)\n",
    "                edge_type.append(type_)\n",
    "                edges += 1\n",
    "\n",
    "edge_type = np.array(edge_type)\n",
    "\n",
    "print(edges)\n",
    "print(edge_index.shape)\n",
    "print(edge_type.shape)\n",
    "print(np.max(edge_index))"
   ]
  },
  {
   "cell_type": "markdown",
   "metadata": {},
   "source": [
    "## Save"
   ]
  },
  {
   "cell_type": "code",
   "execution_count": 30,
   "metadata": {},
   "outputs": [],
   "source": [
    "np.save(\"../relational_data/edge_indexes/{}_wikidata_edge_index.npy\".format(market), edge_index)\n",
    "np.save(\"../relational_data/edge_types/{}_wikidata_edge_type.npy\".format(market), edge_type)"
   ]
  },
  {
   "cell_type": "markdown",
   "metadata": {},
   "source": [
    "## Visualization"
   ]
  },
  {
   "cell_type": "code",
   "execution_count": 17,
   "metadata": {},
   "outputs": [],
   "source": [
    "import torch\n",
    "from torch_geometric.data import Data\n",
    "\n",
    "edge_index = torch.tensor(edge_index, dtype=torch.long)\n",
    "x = torch.zeros(1, a.shape[0])\n",
    "\n",
    "data = Data(x=x, edge_index=edge_index, num_nodes=a.shape[0])"
   ]
  },
  {
   "cell_type": "code",
   "execution_count": 18,
   "metadata": {},
   "outputs": [],
   "source": [
    "import networkx as nx\n",
    "from torch_geometric.utils import to_networkx\n",
    "\n",
    "g = to_networkx(data, to_undirected=False)\n",
    "nx.write_gexf(g, \"../relational_data/gephi_visualizations/{}_wikidata.gexf\".format(market))"
   ]
  }
 ],
 "metadata": {
  "kernelspec": {
   "display_name": "graph",
   "language": "python",
   "name": "python3"
  },
  "language_info": {
   "codemirror_mode": {
    "name": "ipython",
    "version": 3
   },
   "file_extension": ".py",
   "mimetype": "text/x-python",
   "name": "python",
   "nbconvert_exporter": "python",
   "pygments_lexer": "ipython3",
   "version": "3.10.13"
  }
 },
 "nbformat": 4,
 "nbformat_minor": 2
}
